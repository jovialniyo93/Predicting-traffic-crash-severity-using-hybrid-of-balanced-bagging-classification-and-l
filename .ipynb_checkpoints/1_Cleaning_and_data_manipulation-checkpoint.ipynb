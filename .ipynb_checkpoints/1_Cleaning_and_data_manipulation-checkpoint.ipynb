{
 "cells": [
  {
   "cell_type": "code",
   "execution_count": 1,
   "metadata": {},
   "outputs": [],
   "source": [
    "# import the usual suspects ...\n",
    "import pandas as pd\n",
    "import matplotlib.pyplot as plt\n",
    "%matplotlib inline\n",
    "import numpy as np\n",
    "import seaborn as sns\n",
    "import urllib, os\n",
    "import glob\n",
    "import pickle\n",
    "import time\n",
    "import holidays\n",
    "import timeit\n",
    "import matplotlib.pyplot as plt\n",
    "plt.style.use('dark_background')\n",
    "import datetime\n",
    "import math\n",
    "from collections import Counter\n",
    "\n",
    "#scipy\n",
    "import scipy.stats as stats\n",
    "from scipy import stats\n",
    "from scipy.stats import chi2_contingency\n",
    "from sklearn.decomposition import PCA\n",
    "\n",
    "# suppress all warnings\n",
    "import warnings\n",
    "warnings.filterwarnings(\"ignore\")\n"
   ]
  },
  {
   "cell_type": "code",
   "execution_count": 2,
   "metadata": {},
   "outputs": [
    {
     "name": "stdout",
     "output_type": "stream",
     "text": [
      "Records: 931812 \n",
      "Columns: 32\n"
     ]
    },
    {
     "data": {
      "text/html": [
       "<div>\n",
       "<style scoped>\n",
       "    .dataframe tbody tr th:only-of-type {\n",
       "        vertical-align: middle;\n",
       "    }\n",
       "\n",
       "    .dataframe tbody tr th {\n",
       "        vertical-align: top;\n",
       "    }\n",
       "\n",
       "    .dataframe thead th {\n",
       "        text-align: right;\n",
       "    }\n",
       "</style>\n",
       "<table border=\"1\" class=\"dataframe\">\n",
       "  <thead>\n",
       "    <tr style=\"text-align: right;\">\n",
       "      <th></th>\n",
       "      <th>Accident_Index</th>\n",
       "      <th>Location_Easting_OSGR</th>\n",
       "      <th>Location_Northing_OSGR</th>\n",
       "      <th>Longitude</th>\n",
       "      <th>Latitude</th>\n",
       "      <th>Police_Force</th>\n",
       "      <th>Accident_Severity</th>\n",
       "      <th>Number_of_Vehicles</th>\n",
       "      <th>Number_of_Casualties</th>\n",
       "      <th>Date</th>\n",
       "      <th>...</th>\n",
       "      <th>Pedestrian_Crossing-Human_Control</th>\n",
       "      <th>Pedestrian_Crossing-Physical_Facilities</th>\n",
       "      <th>Light_Conditions</th>\n",
       "      <th>Weather_Conditions</th>\n",
       "      <th>Road_Surface_Conditions</th>\n",
       "      <th>Special_Conditions_at_Site</th>\n",
       "      <th>Carriageway_Hazards</th>\n",
       "      <th>Urban_or_Rural_Area</th>\n",
       "      <th>Did_Police_Officer_Attend_Scene_of_Accident</th>\n",
       "      <th>LSOA_of_Accident_Location</th>\n",
       "    </tr>\n",
       "  </thead>\n",
       "  <tbody>\n",
       "    <tr>\n",
       "      <th>0</th>\n",
       "      <td>201301BS70003</td>\n",
       "      <td>527060.0</td>\n",
       "      <td>177970.0</td>\n",
       "      <td>-0.171402</td>\n",
       "      <td>51.486361</td>\n",
       "      <td>1</td>\n",
       "      <td>2</td>\n",
       "      <td>2</td>\n",
       "      <td>1</td>\n",
       "      <td>02/01/2013</td>\n",
       "      <td>...</td>\n",
       "      <td>0</td>\n",
       "      <td>0</td>\n",
       "      <td>1</td>\n",
       "      <td>1</td>\n",
       "      <td>1</td>\n",
       "      <td>0</td>\n",
       "      <td>0</td>\n",
       "      <td>1</td>\n",
       "      <td>1</td>\n",
       "      <td>E01002844</td>\n",
       "    </tr>\n",
       "    <tr>\n",
       "      <th>1</th>\n",
       "      <td>201301BS70005</td>\n",
       "      <td>526900.0</td>\n",
       "      <td>178940.0</td>\n",
       "      <td>-0.173356</td>\n",
       "      <td>51.495115</td>\n",
       "      <td>1</td>\n",
       "      <td>3</td>\n",
       "      <td>1</td>\n",
       "      <td>2</td>\n",
       "      <td>04/01/2013</td>\n",
       "      <td>...</td>\n",
       "      <td>0</td>\n",
       "      <td>5</td>\n",
       "      <td>1</td>\n",
       "      <td>8</td>\n",
       "      <td>1</td>\n",
       "      <td>0</td>\n",
       "      <td>0</td>\n",
       "      <td>1</td>\n",
       "      <td>1</td>\n",
       "      <td>E01002821</td>\n",
       "    </tr>\n",
       "    <tr>\n",
       "      <th>2</th>\n",
       "      <td>201301BS70006</td>\n",
       "      <td>524240.0</td>\n",
       "      <td>181460.0</td>\n",
       "      <td>-0.210767</td>\n",
       "      <td>51.518353</td>\n",
       "      <td>1</td>\n",
       "      <td>3</td>\n",
       "      <td>1</td>\n",
       "      <td>1</td>\n",
       "      <td>07/01/2013</td>\n",
       "      <td>...</td>\n",
       "      <td>0</td>\n",
       "      <td>1</td>\n",
       "      <td>1</td>\n",
       "      <td>1</td>\n",
       "      <td>1</td>\n",
       "      <td>0</td>\n",
       "      <td>0</td>\n",
       "      <td>1</td>\n",
       "      <td>1</td>\n",
       "      <td>E01002878</td>\n",
       "    </tr>\n",
       "    <tr>\n",
       "      <th>3</th>\n",
       "      <td>201301BS70007</td>\n",
       "      <td>524320.0</td>\n",
       "      <td>181290.0</td>\n",
       "      <td>-0.209675</td>\n",
       "      <td>51.516808</td>\n",
       "      <td>1</td>\n",
       "      <td>3</td>\n",
       "      <td>2</td>\n",
       "      <td>1</td>\n",
       "      <td>10/01/2013</td>\n",
       "      <td>...</td>\n",
       "      <td>0</td>\n",
       "      <td>5</td>\n",
       "      <td>1</td>\n",
       "      <td>1</td>\n",
       "      <td>1</td>\n",
       "      <td>0</td>\n",
       "      <td>0</td>\n",
       "      <td>1</td>\n",
       "      <td>1</td>\n",
       "      <td>E01002831</td>\n",
       "    </tr>\n",
       "    <tr>\n",
       "      <th>4</th>\n",
       "      <td>201301BS70009</td>\n",
       "      <td>525450.0</td>\n",
       "      <td>178660.0</td>\n",
       "      <td>-0.194332</td>\n",
       "      <td>51.492922</td>\n",
       "      <td>1</td>\n",
       "      <td>3</td>\n",
       "      <td>2</td>\n",
       "      <td>1</td>\n",
       "      <td>04/01/2013</td>\n",
       "      <td>...</td>\n",
       "      <td>0</td>\n",
       "      <td>0</td>\n",
       "      <td>4</td>\n",
       "      <td>1</td>\n",
       "      <td>1</td>\n",
       "      <td>0</td>\n",
       "      <td>0</td>\n",
       "      <td>1</td>\n",
       "      <td>1</td>\n",
       "      <td>E01002851</td>\n",
       "    </tr>\n",
       "  </tbody>\n",
       "</table>\n",
       "<p>5 rows × 32 columns</p>\n",
       "</div>"
      ],
      "text/plain": [
       "  Accident_Index  Location_Easting_OSGR  Location_Northing_OSGR  Longitude  \\\n",
       "0  201301BS70003               527060.0                177970.0  -0.171402   \n",
       "1  201301BS70005               526900.0                178940.0  -0.173356   \n",
       "2  201301BS70006               524240.0                181460.0  -0.210767   \n",
       "3  201301BS70007               524320.0                181290.0  -0.209675   \n",
       "4  201301BS70009               525450.0                178660.0  -0.194332   \n",
       "\n",
       "    Latitude  Police_Force  Accident_Severity  Number_of_Vehicles  \\\n",
       "0  51.486361             1                  2                   2   \n",
       "1  51.495115             1                  3                   1   \n",
       "2  51.518353             1                  3                   1   \n",
       "3  51.516808             1                  3                   2   \n",
       "4  51.492922             1                  3                   2   \n",
       "\n",
       "   Number_of_Casualties        Date  ...  Pedestrian_Crossing-Human_Control  \\\n",
       "0                     1  02/01/2013  ...                                  0   \n",
       "1                     2  04/01/2013  ...                                  0   \n",
       "2                     1  07/01/2013  ...                                  0   \n",
       "3                     1  10/01/2013  ...                                  0   \n",
       "4                     1  04/01/2013  ...                                  0   \n",
       "\n",
       "  Pedestrian_Crossing-Physical_Facilities  Light_Conditions  \\\n",
       "0                                       0                 1   \n",
       "1                                       5                 1   \n",
       "2                                       1                 1   \n",
       "3                                       5                 1   \n",
       "4                                       0                 4   \n",
       "\n",
       "  Weather_Conditions  Road_Surface_Conditions  Special_Conditions_at_Site  \\\n",
       "0                  1                        1                           0   \n",
       "1                  8                        1                           0   \n",
       "2                  1                        1                           0   \n",
       "3                  1                        1                           0   \n",
       "4                  1                        1                           0   \n",
       "\n",
       "   Carriageway_Hazards  Urban_or_Rural_Area  \\\n",
       "0                    0                    1   \n",
       "1                    0                    1   \n",
       "2                    0                    1   \n",
       "3                    0                    1   \n",
       "4                    0                    1   \n",
       "\n",
       "   Did_Police_Officer_Attend_Scene_of_Accident  LSOA_of_Accident_Location  \n",
       "0                                            1                  E01002844  \n",
       "1                                            1                  E01002821  \n",
       "2                                            1                  E01002878  \n",
       "3                                            1                  E01002831  \n",
       "4                                            1                  E01002851  \n",
       "\n",
       "[5 rows x 32 columns]"
      ]
     },
     "execution_count": 2,
     "metadata": {},
     "output_type": "execute_result"
    }
   ],
   "source": [
    "df = pd.concat([pd.read_csv(f) for f in glob.glob('data/Accidents/Accidents*.csv')], ignore_index = True)\n",
    "print('Records:', df.shape[0], '\\nColumns:',df.shape[1])\n",
    "df.head()"
   ]
  },
  {
   "cell_type": "code",
   "execution_count": 3,
   "metadata": {},
   "outputs": [
    {
     "name": "stdout",
     "output_type": "stream",
     "text": [
      "<class 'pandas.core.frame.DataFrame'>\n",
      "RangeIndex: 931812 entries, 0 to 931811\n",
      "Data columns (total 32 columns):\n",
      " #   Column                                       Non-Null Count   Dtype  \n",
      "---  ------                                       --------------   -----  \n",
      " 0   Accident_Index                               931812 non-null  object \n",
      " 1   Location_Easting_OSGR                        931676 non-null  float64\n",
      " 2   Location_Northing_OSGR                       931676 non-null  float64\n",
      " 3   Longitude                                    931666 non-null  float64\n",
      " 4   Latitude                                     931666 non-null  float64\n",
      " 5   Police_Force                                 931812 non-null  int64  \n",
      " 6   Accident_Severity                            931812 non-null  int64  \n",
      " 7   Number_of_Vehicles                           931812 non-null  int64  \n",
      " 8   Number_of_Casualties                         931812 non-null  int64  \n",
      " 9   Date                                         931812 non-null  object \n",
      " 10  Day_of_Week                                  931812 non-null  int64  \n",
      " 11  Time                                         931705 non-null  object \n",
      " 12  Local_Authority_(District)                   931812 non-null  int64  \n",
      " 13  Local_Authority_(Highway)                    931812 non-null  object \n",
      " 14  1st_Road_Class                               931812 non-null  int64  \n",
      " 15  1st_Road_Number                              931812 non-null  int64  \n",
      " 16  Road_Type                                    931812 non-null  int64  \n",
      " 17  Speed_limit                                  931775 non-null  float64\n",
      " 18  Junction_Detail                              931812 non-null  int64  \n",
      " 19  Junction_Control                             931812 non-null  int64  \n",
      " 20  2nd_Road_Class                               931812 non-null  int64  \n",
      " 21  2nd_Road_Number                              931812 non-null  int64  \n",
      " 22  Pedestrian_Crossing-Human_Control            931812 non-null  int64  \n",
      " 23  Pedestrian_Crossing-Physical_Facilities      931812 non-null  int64  \n",
      " 24  Light_Conditions                             931812 non-null  int64  \n",
      " 25  Weather_Conditions                           931812 non-null  int64  \n",
      " 26  Road_Surface_Conditions                      931812 non-null  int64  \n",
      " 27  Special_Conditions_at_Site                   931812 non-null  int64  \n",
      " 28  Carriageway_Hazards                          931812 non-null  int64  \n",
      " 29  Urban_or_Rural_Area                          931812 non-null  int64  \n",
      " 30  Did_Police_Officer_Attend_Scene_of_Accident  931812 non-null  int64  \n",
      " 31  LSOA_of_Accident_Location                    876233 non-null  object \n",
      "dtypes: float64(5), int64(22), object(5)\n",
      "memory usage: 227.5+ MB\n"
     ]
    }
   ],
   "source": [
    "df.info()"
   ]
  },
  {
   "cell_type": "code",
   "execution_count": 4,
   "metadata": {},
   "outputs": [
    {
     "data": {
      "text/html": [
       "<div>\n",
       "<style scoped>\n",
       "    .dataframe tbody tr th:only-of-type {\n",
       "        vertical-align: middle;\n",
       "    }\n",
       "\n",
       "    .dataframe tbody tr th {\n",
       "        vertical-align: top;\n",
       "    }\n",
       "\n",
       "    .dataframe thead th {\n",
       "        text-align: right;\n",
       "    }\n",
       "</style>\n",
       "<table border=\"1\" class=\"dataframe\">\n",
       "  <thead>\n",
       "    <tr style=\"text-align: right;\">\n",
       "      <th></th>\n",
       "      <th>count</th>\n",
       "      <th>mean</th>\n",
       "      <th>std</th>\n",
       "      <th>min</th>\n",
       "      <th>25%</th>\n",
       "      <th>50%</th>\n",
       "      <th>75%</th>\n",
       "      <th>max</th>\n",
       "    </tr>\n",
       "  </thead>\n",
       "  <tbody>\n",
       "    <tr>\n",
       "      <th>Location_Easting_OSGR</th>\n",
       "      <td>931676.0</td>\n",
       "      <td>448719.670373</td>\n",
       "      <td>95223.507696</td>\n",
       "      <td>64084.000000</td>\n",
       "      <td>385595.750000</td>\n",
       "      <td>454321.500000</td>\n",
       "      <td>527830.000000</td>\n",
       "      <td>6.553910e+05</td>\n",
       "    </tr>\n",
       "    <tr>\n",
       "      <th>Location_Northing_OSGR</th>\n",
       "      <td>931676.0</td>\n",
       "      <td>287090.074563</td>\n",
       "      <td>156158.186217</td>\n",
       "      <td>10235.000000</td>\n",
       "      <td>176240.000000</td>\n",
       "      <td>234526.000000</td>\n",
       "      <td>389895.000000</td>\n",
       "      <td>1.209512e+06</td>\n",
       "    </tr>\n",
       "    <tr>\n",
       "      <th>Longitude</th>\n",
       "      <td>931666.0</td>\n",
       "      <td>-1.303997</td>\n",
       "      <td>1.397654</td>\n",
       "      <td>-7.525273</td>\n",
       "      <td>-2.216286</td>\n",
       "      <td>-1.198030</td>\n",
       "      <td>-0.157639</td>\n",
       "      <td>1.759641e+00</td>\n",
       "    </tr>\n",
       "    <tr>\n",
       "      <th>Latitude</th>\n",
       "      <td>931666.0</td>\n",
       "      <td>52.471219</td>\n",
       "      <td>1.406383</td>\n",
       "      <td>49.912362</td>\n",
       "      <td>51.472559</td>\n",
       "      <td>51.995472</td>\n",
       "      <td>53.402768</td>\n",
       "      <td>6.076372e+01</td>\n",
       "    </tr>\n",
       "    <tr>\n",
       "      <th>Police_Force</th>\n",
       "      <td>931812.0</td>\n",
       "      <td>29.387810</td>\n",
       "      <td>25.127395</td>\n",
       "      <td>1.000000</td>\n",
       "      <td>6.000000</td>\n",
       "      <td>30.000000</td>\n",
       "      <td>45.000000</td>\n",
       "      <td>9.800000e+01</td>\n",
       "    </tr>\n",
       "    <tr>\n",
       "      <th>Accident_Severity</th>\n",
       "      <td>931812.0</td>\n",
       "      <td>2.812894</td>\n",
       "      <td>0.420662</td>\n",
       "      <td>1.000000</td>\n",
       "      <td>3.000000</td>\n",
       "      <td>3.000000</td>\n",
       "      <td>3.000000</td>\n",
       "      <td>3.000000e+00</td>\n",
       "    </tr>\n",
       "    <tr>\n",
       "      <th>Number_of_Vehicles</th>\n",
       "      <td>931812.0</td>\n",
       "      <td>1.838891</td>\n",
       "      <td>0.714009</td>\n",
       "      <td>1.000000</td>\n",
       "      <td>1.000000</td>\n",
       "      <td>2.000000</td>\n",
       "      <td>2.000000</td>\n",
       "      <td>6.700000e+01</td>\n",
       "    </tr>\n",
       "    <tr>\n",
       "      <th>Number_of_Casualties</th>\n",
       "      <td>931812.0</td>\n",
       "      <td>1.320511</td>\n",
       "      <td>0.792298</td>\n",
       "      <td>1.000000</td>\n",
       "      <td>1.000000</td>\n",
       "      <td>1.000000</td>\n",
       "      <td>1.000000</td>\n",
       "      <td>9.300000e+01</td>\n",
       "    </tr>\n",
       "    <tr>\n",
       "      <th>Day_of_Week</th>\n",
       "      <td>931812.0</td>\n",
       "      <td>4.105456</td>\n",
       "      <td>1.919295</td>\n",
       "      <td>1.000000</td>\n",
       "      <td>2.000000</td>\n",
       "      <td>4.000000</td>\n",
       "      <td>6.000000</td>\n",
       "      <td>7.000000e+00</td>\n",
       "    </tr>\n",
       "    <tr>\n",
       "      <th>Local_Authority_(District)</th>\n",
       "      <td>931812.0</td>\n",
       "      <td>338.200680</td>\n",
       "      <td>258.428861</td>\n",
       "      <td>1.000000</td>\n",
       "      <td>100.000000</td>\n",
       "      <td>309.000000</td>\n",
       "      <td>516.000000</td>\n",
       "      <td>9.410000e+02</td>\n",
       "    </tr>\n",
       "    <tr>\n",
       "      <th>1st_Road_Class</th>\n",
       "      <td>931812.0</td>\n",
       "      <td>4.143475</td>\n",
       "      <td>1.448905</td>\n",
       "      <td>1.000000</td>\n",
       "      <td>3.000000</td>\n",
       "      <td>4.000000</td>\n",
       "      <td>6.000000</td>\n",
       "      <td>6.000000e+00</td>\n",
       "    </tr>\n",
       "    <tr>\n",
       "      <th>1st_Road_Number</th>\n",
       "      <td>931812.0</td>\n",
       "      <td>928.614035</td>\n",
       "      <td>1822.113619</td>\n",
       "      <td>0.000000</td>\n",
       "      <td>0.000000</td>\n",
       "      <td>74.000000</td>\n",
       "      <td>653.000000</td>\n",
       "      <td>4.988780e+05</td>\n",
       "    </tr>\n",
       "    <tr>\n",
       "      <th>Road_Type</th>\n",
       "      <td>931812.0</td>\n",
       "      <td>5.177873</td>\n",
       "      <td>1.667735</td>\n",
       "      <td>-1.000000</td>\n",
       "      <td>6.000000</td>\n",
       "      <td>6.000000</td>\n",
       "      <td>6.000000</td>\n",
       "      <td>9.000000e+00</td>\n",
       "    </tr>\n",
       "    <tr>\n",
       "      <th>Speed_limit</th>\n",
       "      <td>931775.0</td>\n",
       "      <td>37.758450</td>\n",
       "      <td>13.988275</td>\n",
       "      <td>-1.000000</td>\n",
       "      <td>30.000000</td>\n",
       "      <td>30.000000</td>\n",
       "      <td>40.000000</td>\n",
       "      <td>7.000000e+01</td>\n",
       "    </tr>\n",
       "    <tr>\n",
       "      <th>Junction_Detail</th>\n",
       "      <td>931812.0</td>\n",
       "      <td>2.279526</td>\n",
       "      <td>2.548834</td>\n",
       "      <td>-1.000000</td>\n",
       "      <td>0.000000</td>\n",
       "      <td>2.000000</td>\n",
       "      <td>3.000000</td>\n",
       "      <td>9.000000e+00</td>\n",
       "    </tr>\n",
       "    <tr>\n",
       "      <th>Junction_Control</th>\n",
       "      <td>931812.0</td>\n",
       "      <td>1.694020</td>\n",
       "      <td>2.353046</td>\n",
       "      <td>-1.000000</td>\n",
       "      <td>-1.000000</td>\n",
       "      <td>2.000000</td>\n",
       "      <td>4.000000</td>\n",
       "      <td>4.000000e+00</td>\n",
       "    </tr>\n",
       "    <tr>\n",
       "      <th>2nd_Road_Class</th>\n",
       "      <td>931812.0</td>\n",
       "      <td>2.679374</td>\n",
       "      <td>3.212993</td>\n",
       "      <td>-1.000000</td>\n",
       "      <td>-1.000000</td>\n",
       "      <td>3.000000</td>\n",
       "      <td>6.000000</td>\n",
       "      <td>6.000000e+00</td>\n",
       "    </tr>\n",
       "    <tr>\n",
       "      <th>2nd_Road_Number</th>\n",
       "      <td>931812.0</td>\n",
       "      <td>334.926437</td>\n",
       "      <td>1214.952995</td>\n",
       "      <td>-1.000000</td>\n",
       "      <td>0.000000</td>\n",
       "      <td>0.000000</td>\n",
       "      <td>0.000000</td>\n",
       "      <td>9.999000e+03</td>\n",
       "    </tr>\n",
       "    <tr>\n",
       "      <th>Pedestrian_Crossing-Human_Control</th>\n",
       "      <td>931812.0</td>\n",
       "      <td>0.004218</td>\n",
       "      <td>0.191925</td>\n",
       "      <td>-1.000000</td>\n",
       "      <td>0.000000</td>\n",
       "      <td>0.000000</td>\n",
       "      <td>0.000000</td>\n",
       "      <td>2.000000e+00</td>\n",
       "    </tr>\n",
       "    <tr>\n",
       "      <th>Pedestrian_Crossing-Physical_Facilities</th>\n",
       "      <td>931812.0</td>\n",
       "      <td>0.842004</td>\n",
       "      <td>1.950323</td>\n",
       "      <td>-1.000000</td>\n",
       "      <td>0.000000</td>\n",
       "      <td>0.000000</td>\n",
       "      <td>0.000000</td>\n",
       "      <td>8.000000e+00</td>\n",
       "    </tr>\n",
       "    <tr>\n",
       "      <th>Light_Conditions</th>\n",
       "      <td>931812.0</td>\n",
       "      <td>1.983295</td>\n",
       "      <td>1.680962</td>\n",
       "      <td>-1.000000</td>\n",
       "      <td>1.000000</td>\n",
       "      <td>1.000000</td>\n",
       "      <td>4.000000</td>\n",
       "      <td>7.000000e+00</td>\n",
       "    </tr>\n",
       "    <tr>\n",
       "      <th>Weather_Conditions</th>\n",
       "      <td>931812.0</td>\n",
       "      <td>1.570531</td>\n",
       "      <td>1.674486</td>\n",
       "      <td>-1.000000</td>\n",
       "      <td>1.000000</td>\n",
       "      <td>1.000000</td>\n",
       "      <td>1.000000</td>\n",
       "      <td>9.000000e+00</td>\n",
       "    </tr>\n",
       "    <tr>\n",
       "      <th>Road_Surface_Conditions</th>\n",
       "      <td>931812.0</td>\n",
       "      <td>1.302472</td>\n",
       "      <td>0.596860</td>\n",
       "      <td>-1.000000</td>\n",
       "      <td>1.000000</td>\n",
       "      <td>1.000000</td>\n",
       "      <td>2.000000</td>\n",
       "      <td>5.000000e+00</td>\n",
       "    </tr>\n",
       "    <tr>\n",
       "      <th>Special_Conditions_at_Site</th>\n",
       "      <td>931812.0</td>\n",
       "      <td>0.087082</td>\n",
       "      <td>0.676745</td>\n",
       "      <td>-1.000000</td>\n",
       "      <td>0.000000</td>\n",
       "      <td>0.000000</td>\n",
       "      <td>0.000000</td>\n",
       "      <td>7.000000e+00</td>\n",
       "    </tr>\n",
       "    <tr>\n",
       "      <th>Carriageway_Hazards</th>\n",
       "      <td>931812.0</td>\n",
       "      <td>0.057368</td>\n",
       "      <td>0.573764</td>\n",
       "      <td>-1.000000</td>\n",
       "      <td>0.000000</td>\n",
       "      <td>0.000000</td>\n",
       "      <td>0.000000</td>\n",
       "      <td>7.000000e+00</td>\n",
       "    </tr>\n",
       "    <tr>\n",
       "      <th>Urban_or_Rural_Area</th>\n",
       "      <td>931812.0</td>\n",
       "      <td>1.338882</td>\n",
       "      <td>0.473563</td>\n",
       "      <td>-1.000000</td>\n",
       "      <td>1.000000</td>\n",
       "      <td>1.000000</td>\n",
       "      <td>2.000000</td>\n",
       "      <td>3.000000e+00</td>\n",
       "    </tr>\n",
       "    <tr>\n",
       "      <th>Did_Police_Officer_Attend_Scene_of_Accident</th>\n",
       "      <td>931812.0</td>\n",
       "      <td>1.248051</td>\n",
       "      <td>0.463315</td>\n",
       "      <td>-1.000000</td>\n",
       "      <td>1.000000</td>\n",
       "      <td>1.000000</td>\n",
       "      <td>1.000000</td>\n",
       "      <td>3.000000e+00</td>\n",
       "    </tr>\n",
       "  </tbody>\n",
       "</table>\n",
       "</div>"
      ],
      "text/plain": [
       "                                                count           mean  \\\n",
       "Location_Easting_OSGR                        931676.0  448719.670373   \n",
       "Location_Northing_OSGR                       931676.0  287090.074563   \n",
       "Longitude                                    931666.0      -1.303997   \n",
       "Latitude                                     931666.0      52.471219   \n",
       "Police_Force                                 931812.0      29.387810   \n",
       "Accident_Severity                            931812.0       2.812894   \n",
       "Number_of_Vehicles                           931812.0       1.838891   \n",
       "Number_of_Casualties                         931812.0       1.320511   \n",
       "Day_of_Week                                  931812.0       4.105456   \n",
       "Local_Authority_(District)                   931812.0     338.200680   \n",
       "1st_Road_Class                               931812.0       4.143475   \n",
       "1st_Road_Number                              931812.0     928.614035   \n",
       "Road_Type                                    931812.0       5.177873   \n",
       "Speed_limit                                  931775.0      37.758450   \n",
       "Junction_Detail                              931812.0       2.279526   \n",
       "Junction_Control                             931812.0       1.694020   \n",
       "2nd_Road_Class                               931812.0       2.679374   \n",
       "2nd_Road_Number                              931812.0     334.926437   \n",
       "Pedestrian_Crossing-Human_Control            931812.0       0.004218   \n",
       "Pedestrian_Crossing-Physical_Facilities      931812.0       0.842004   \n",
       "Light_Conditions                             931812.0       1.983295   \n",
       "Weather_Conditions                           931812.0       1.570531   \n",
       "Road_Surface_Conditions                      931812.0       1.302472   \n",
       "Special_Conditions_at_Site                   931812.0       0.087082   \n",
       "Carriageway_Hazards                          931812.0       0.057368   \n",
       "Urban_or_Rural_Area                          931812.0       1.338882   \n",
       "Did_Police_Officer_Attend_Scene_of_Accident  931812.0       1.248051   \n",
       "\n",
       "                                                       std           min  \\\n",
       "Location_Easting_OSGR                         95223.507696  64084.000000   \n",
       "Location_Northing_OSGR                       156158.186217  10235.000000   \n",
       "Longitude                                         1.397654     -7.525273   \n",
       "Latitude                                          1.406383     49.912362   \n",
       "Police_Force                                     25.127395      1.000000   \n",
       "Accident_Severity                                 0.420662      1.000000   \n",
       "Number_of_Vehicles                                0.714009      1.000000   \n",
       "Number_of_Casualties                              0.792298      1.000000   \n",
       "Day_of_Week                                       1.919295      1.000000   \n",
       "Local_Authority_(District)                      258.428861      1.000000   \n",
       "1st_Road_Class                                    1.448905      1.000000   \n",
       "1st_Road_Number                                1822.113619      0.000000   \n",
       "Road_Type                                         1.667735     -1.000000   \n",
       "Speed_limit                                      13.988275     -1.000000   \n",
       "Junction_Detail                                   2.548834     -1.000000   \n",
       "Junction_Control                                  2.353046     -1.000000   \n",
       "2nd_Road_Class                                    3.212993     -1.000000   \n",
       "2nd_Road_Number                                1214.952995     -1.000000   \n",
       "Pedestrian_Crossing-Human_Control                 0.191925     -1.000000   \n",
       "Pedestrian_Crossing-Physical_Facilities           1.950323     -1.000000   \n",
       "Light_Conditions                                  1.680962     -1.000000   \n",
       "Weather_Conditions                                1.674486     -1.000000   \n",
       "Road_Surface_Conditions                           0.596860     -1.000000   \n",
       "Special_Conditions_at_Site                        0.676745     -1.000000   \n",
       "Carriageway_Hazards                               0.573764     -1.000000   \n",
       "Urban_or_Rural_Area                               0.473563     -1.000000   \n",
       "Did_Police_Officer_Attend_Scene_of_Accident       0.463315     -1.000000   \n",
       "\n",
       "                                                       25%            50%  \\\n",
       "Location_Easting_OSGR                        385595.750000  454321.500000   \n",
       "Location_Northing_OSGR                       176240.000000  234526.000000   \n",
       "Longitude                                        -2.216286      -1.198030   \n",
       "Latitude                                         51.472559      51.995472   \n",
       "Police_Force                                      6.000000      30.000000   \n",
       "Accident_Severity                                 3.000000       3.000000   \n",
       "Number_of_Vehicles                                1.000000       2.000000   \n",
       "Number_of_Casualties                              1.000000       1.000000   \n",
       "Day_of_Week                                       2.000000       4.000000   \n",
       "Local_Authority_(District)                      100.000000     309.000000   \n",
       "1st_Road_Class                                    3.000000       4.000000   \n",
       "1st_Road_Number                                   0.000000      74.000000   \n",
       "Road_Type                                         6.000000       6.000000   \n",
       "Speed_limit                                      30.000000      30.000000   \n",
       "Junction_Detail                                   0.000000       2.000000   \n",
       "Junction_Control                                 -1.000000       2.000000   \n",
       "2nd_Road_Class                                   -1.000000       3.000000   \n",
       "2nd_Road_Number                                   0.000000       0.000000   \n",
       "Pedestrian_Crossing-Human_Control                 0.000000       0.000000   \n",
       "Pedestrian_Crossing-Physical_Facilities           0.000000       0.000000   \n",
       "Light_Conditions                                  1.000000       1.000000   \n",
       "Weather_Conditions                                1.000000       1.000000   \n",
       "Road_Surface_Conditions                           1.000000       1.000000   \n",
       "Special_Conditions_at_Site                        0.000000       0.000000   \n",
       "Carriageway_Hazards                               0.000000       0.000000   \n",
       "Urban_or_Rural_Area                               1.000000       1.000000   \n",
       "Did_Police_Officer_Attend_Scene_of_Accident       1.000000       1.000000   \n",
       "\n",
       "                                                       75%           max  \n",
       "Location_Easting_OSGR                        527830.000000  6.553910e+05  \n",
       "Location_Northing_OSGR                       389895.000000  1.209512e+06  \n",
       "Longitude                                        -0.157639  1.759641e+00  \n",
       "Latitude                                         53.402768  6.076372e+01  \n",
       "Police_Force                                     45.000000  9.800000e+01  \n",
       "Accident_Severity                                 3.000000  3.000000e+00  \n",
       "Number_of_Vehicles                                2.000000  6.700000e+01  \n",
       "Number_of_Casualties                              1.000000  9.300000e+01  \n",
       "Day_of_Week                                       6.000000  7.000000e+00  \n",
       "Local_Authority_(District)                      516.000000  9.410000e+02  \n",
       "1st_Road_Class                                    6.000000  6.000000e+00  \n",
       "1st_Road_Number                                 653.000000  4.988780e+05  \n",
       "Road_Type                                         6.000000  9.000000e+00  \n",
       "Speed_limit                                      40.000000  7.000000e+01  \n",
       "Junction_Detail                                   3.000000  9.000000e+00  \n",
       "Junction_Control                                  4.000000  4.000000e+00  \n",
       "2nd_Road_Class                                    6.000000  6.000000e+00  \n",
       "2nd_Road_Number                                   0.000000  9.999000e+03  \n",
       "Pedestrian_Crossing-Human_Control                 0.000000  2.000000e+00  \n",
       "Pedestrian_Crossing-Physical_Facilities           0.000000  8.000000e+00  \n",
       "Light_Conditions                                  4.000000  7.000000e+00  \n",
       "Weather_Conditions                                1.000000  9.000000e+00  \n",
       "Road_Surface_Conditions                           2.000000  5.000000e+00  \n",
       "Special_Conditions_at_Site                        0.000000  7.000000e+00  \n",
       "Carriageway_Hazards                               0.000000  7.000000e+00  \n",
       "Urban_or_Rural_Area                               2.000000  3.000000e+00  \n",
       "Did_Police_Officer_Attend_Scene_of_Accident       1.000000  3.000000e+00  "
      ]
     },
     "execution_count": 4,
     "metadata": {},
     "output_type": "execute_result"
    }
   ],
   "source": [
    "df.describe().T"
   ]
  },
  {
   "cell_type": "code",
   "execution_count": 5,
   "metadata": {},
   "outputs": [
    {
     "data": {
      "text/plain": [
       "Accident_Index                                     0\n",
       "Location_Easting_OSGR                            136\n",
       "Location_Northing_OSGR                           136\n",
       "Longitude                                        146\n",
       "Latitude                                         146\n",
       "Police_Force                                       0\n",
       "Accident_Severity                                  0\n",
       "Number_of_Vehicles                                 0\n",
       "Number_of_Casualties                               0\n",
       "Date                                               0\n",
       "Day_of_Week                                        0\n",
       "Time                                             107\n",
       "Local_Authority_(District)                         0\n",
       "Local_Authority_(Highway)                          0\n",
       "1st_Road_Class                                     0\n",
       "1st_Road_Number                                    0\n",
       "Road_Type                                          0\n",
       "Speed_limit                                       37\n",
       "Junction_Detail                                    0\n",
       "Junction_Control                                   0\n",
       "2nd_Road_Class                                     0\n",
       "2nd_Road_Number                                    0\n",
       "Pedestrian_Crossing-Human_Control                  0\n",
       "Pedestrian_Crossing-Physical_Facilities            0\n",
       "Light_Conditions                                   0\n",
       "Weather_Conditions                                 0\n",
       "Road_Surface_Conditions                            0\n",
       "Special_Conditions_at_Site                         0\n",
       "Carriageway_Hazards                                0\n",
       "Urban_or_Rural_Area                                0\n",
       "Did_Police_Officer_Attend_Scene_of_Accident        0\n",
       "LSOA_of_Accident_Location                      55579\n",
       "dtype: int64"
      ]
     },
     "execution_count": 5,
     "metadata": {},
     "output_type": "execute_result"
    }
   ],
   "source": [
    "df.isna().sum()"
   ]
  },
  {
   "cell_type": "code",
   "execution_count": 6,
   "metadata": {},
   "outputs": [
    {
     "data": {
      "text/plain": [
       "Location_Easting_OSGR          136\n",
       "Location_Northing_OSGR         136\n",
       "Longitude                      146\n",
       "Latitude                       146\n",
       "Time                           107\n",
       "Speed_limit                     37\n",
       "LSOA_of_Accident_Location    55579\n",
       "dtype: int64"
      ]
     },
     "execution_count": 6,
     "metadata": {},
     "output_type": "execute_result"
    }
   ],
   "source": [
    "#let's take a closer look at nulls within columns\n",
    "null_columns=df.columns[df.isnull().any()]\n",
    "df[null_columns].isnull().sum() "
   ]
  },
  {
   "cell_type": "markdown",
   "metadata": {},
   "source": [
    "Accident_severity has no null values , which is great because that is our target variable.\n",
    "\n",
    "We will need to drop variables that are unnecessary: -since we have latitude and longitude, the following are redundant: -1st_Road_Number -2nd_Road_Number -LSOA_of_Accident_Location -Location_Easting_OSGR -Location_Northing_OSGR\n",
    "\n",
    "We will need to drop variables that mostly contain missing values\n",
    "\n",
    "For variables that contain only a few missing values, we can either drop those records or replace them. Let's drop for now. (Typically, we would substitute numeric nulls with mean/median/mode. However, given the low volume of nulls and our need to make accurate recommendations to the UK government with as little assumptions as possible, we can safely drop records that still contain nulls.)"
   ]
  },
  {
   "cell_type": "code",
   "execution_count": 7,
   "metadata": {},
   "outputs": [],
   "source": [
    "#drop variables that are unnecessary\n",
    "df.drop(\"1st_Road_Number\", axis=1, inplace=True)\n",
    "df.drop(\"2nd_Road_Number\", axis=1, inplace=True)\n",
    "df.drop(\"LSOA_of_Accident_Location\", axis=1, inplace=True)\n",
    "df.drop(\"Location_Easting_OSGR\", axis=1, inplace=True)\n",
    "df.drop(\"Location_Northing_OSGR\", axis=1, inplace=True)"
   ]
  },
  {
   "cell_type": "code",
   "execution_count": 8,
   "metadata": {},
   "outputs": [
    {
     "name": "stdout",
     "output_type": "stream",
     "text": [
      "Accident's Columns:\n",
      " Index(['Accident_Index', 'Longitude', 'Latitude', 'Police_Force',\n",
      "       'Accident_Severity', 'Number_of_Vehicles', 'Number_of_Casualties',\n",
      "       'Date', 'Day_of_Week', 'Time', 'Local_Authority_(District)',\n",
      "       'Local_Authority_(Highway)', '1st_Road_Class', 'Road_Type',\n",
      "       'Speed_limit', 'Junction_Detail', 'Junction_Control', '2nd_Road_Class',\n",
      "       'Pedestrian_Crossing-Human_Control',\n",
      "       'Pedestrian_Crossing-Physical_Facilities', 'Light_Conditions',\n",
      "       'Weather_Conditions', 'Road_Surface_Conditions',\n",
      "       'Special_Conditions_at_Site', 'Carriageway_Hazards',\n",
      "       'Urban_or_Rural_Area', 'Did_Police_Officer_Attend_Scene_of_Accident'],\n",
      "      dtype='object') \n",
      "\n"
     ]
    }
   ],
   "source": [
    "#check columns\n",
    "print(\"Accident's Columns:\\n\",df.columns, \"\\n\")"
   ]
  },
  {
   "cell_type": "markdown",
   "metadata": {},
   "source": [
    "# Cleaning the dataset¶"
   ]
  },
  {
   "cell_type": "code",
   "execution_count": 9,
   "metadata": {},
   "outputs": [],
   "source": [
    "#convert date/time to datetime datatype\n",
    "df['Date']= pd.to_datetime(df['Date'], format=\"%d/%m/%Y\")\n"
   ]
  },
  {
   "cell_type": "code",
   "execution_count": 10,
   "metadata": {},
   "outputs": [],
   "source": [
    "df['Date']= pd.to_datetime(df['Date'], format=\"%d-%m-%Y\")"
   ]
  },
  {
   "cell_type": "code",
   "execution_count": 11,
   "metadata": {},
   "outputs": [
    {
     "data": {
      "text/plain": [
       "{dtype('int64'): Index(['Police_Force', 'Accident_Severity', 'Number_of_Vehicles',\n",
       "        'Number_of_Casualties', 'Day_of_Week', 'Local_Authority_(District)',\n",
       "        '1st_Road_Class', 'Road_Type', 'Junction_Detail', 'Junction_Control',\n",
       "        '2nd_Road_Class', 'Pedestrian_Crossing-Human_Control',\n",
       "        'Pedestrian_Crossing-Physical_Facilities', 'Light_Conditions',\n",
       "        'Weather_Conditions', 'Road_Surface_Conditions',\n",
       "        'Special_Conditions_at_Site', 'Carriageway_Hazards',\n",
       "        'Urban_or_Rural_Area', 'Did_Police_Officer_Attend_Scene_of_Accident'],\n",
       "       dtype='object'),\n",
       " dtype('float64'): Index(['Longitude', 'Latitude', 'Speed_limit'], dtype='object'),\n",
       " dtype('<M8[ns]'): Index(['Date'], dtype='object'),\n",
       " dtype('O'): Index(['Accident_Index', 'Time', 'Local_Authority_(Highway)'], dtype='object')}"
      ]
     },
     "execution_count": 11,
     "metadata": {},
     "output_type": "execute_result"
    }
   ],
   "source": [
    "df.columns.to_series().groupby(df.dtypes).groups"
   ]
  },
  {
   "cell_type": "markdown",
   "metadata": {},
   "source": [
    "# Correcting dtypes and labels\n",
    "A lot of the data uses numerical labeling, so majority of the cleaning will be checking these datatypes and assinging the correct labels according to the data dictionary."
   ]
  },
  {
   "cell_type": "code",
   "execution_count": 12,
   "metadata": {},
   "outputs": [
    {
     "data": {
      "text/plain": [
       "3    769046\n",
       "2    151184\n",
       "1     11582\n",
       "Name: Accident_Severity, dtype: int64"
      ]
     },
     "execution_count": 12,
     "metadata": {},
     "output_type": "execute_result"
    }
   ],
   "source": [
    "df.Accident_Severity.value_counts()"
   ]
  },
  {
   "cell_type": "code",
   "execution_count": 13,
   "metadata": {},
   "outputs": [],
   "source": [
    "# Change values to listed meanings\n",
    "df.Accident_Severity = df.Accident_Severity.replace([1,2,3], ['Fatal', 'Serious', 'Slight'])"
   ]
  },
  {
   "cell_type": "code",
   "execution_count": 14,
   "metadata": {},
   "outputs": [
    {
     "data": {
      "text/plain": [
       "Slight     769046\n",
       "Serious    151184\n",
       "Fatal       11582\n",
       "Name: Accident_Severity, dtype: int64"
      ]
     },
     "execution_count": 14,
     "metadata": {},
     "output_type": "execute_result"
    }
   ],
   "source": [
    "df.Accident_Severity.value_counts()"
   ]
  },
  {
   "cell_type": "code",
   "execution_count": 15,
   "metadata": {},
   "outputs": [
    {
     "data": {
      "text/plain": [
       "{dtype('int64'): Index(['Police_Force', 'Number_of_Vehicles', 'Number_of_Casualties',\n",
       "        'Day_of_Week', 'Local_Authority_(District)', '1st_Road_Class',\n",
       "        'Road_Type', 'Junction_Detail', 'Junction_Control', '2nd_Road_Class',\n",
       "        'Pedestrian_Crossing-Human_Control',\n",
       "        'Pedestrian_Crossing-Physical_Facilities', 'Light_Conditions',\n",
       "        'Weather_Conditions', 'Road_Surface_Conditions',\n",
       "        'Special_Conditions_at_Site', 'Carriageway_Hazards',\n",
       "        'Urban_or_Rural_Area', 'Did_Police_Officer_Attend_Scene_of_Accident'],\n",
       "       dtype='object'),\n",
       " dtype('float64'): Index(['Longitude', 'Latitude', 'Speed_limit'], dtype='object'),\n",
       " dtype('<M8[ns]'): Index(['Date'], dtype='object'),\n",
       " dtype('O'): Index(['Accident_Index', 'Accident_Severity', 'Time',\n",
       "        'Local_Authority_(Highway)'],\n",
       "       dtype='object')}"
      ]
     },
     "execution_count": 15,
     "metadata": {},
     "output_type": "execute_result"
    }
   ],
   "source": [
    "df.columns.to_series().groupby(df.dtypes).groups"
   ]
  },
  {
   "cell_type": "code",
   "execution_count": 16,
   "metadata": {},
   "outputs": [
    {
     "data": {
      "text/plain": [
       "1     0.188169\n",
       "20    0.042183\n",
       "46    0.035912\n",
       "13    0.034649\n",
       "43    0.034562\n",
       "44    0.031583\n",
       "47    0.030534\n",
       "50    0.027638\n",
       "6     0.027149\n",
       "45    0.026759\n",
       "42    0.026533\n",
       "4     0.026511\n",
       "97    0.024540\n",
       "52    0.022838\n",
       "14    0.021377\n",
       "10    0.020692\n",
       "31    0.019463\n",
       "5     0.018634\n",
       "16    0.018238\n",
       "41    0.017558\n",
       "7     0.017057\n",
       "21    0.016441\n",
       "22    0.016063\n",
       "32    0.015356\n",
       "33    0.014830\n",
       "35    0.014776\n",
       "30    0.014764\n",
       "62    0.014678\n",
       "12    0.013971\n",
       "95    0.013742\n",
       "36    0.013380\n",
       "55    0.011959\n",
       "37    0.011699\n",
       "40    0.011194\n",
       "54    0.010911\n",
       "23    0.010495\n",
       "3     0.009398\n",
       "63    0.009139\n",
       "34    0.008861\n",
       "60    0.008685\n",
       "11    0.007896\n",
       "53    0.006070\n",
       "17    0.005876\n",
       "61    0.005403\n",
       "92    0.004504\n",
       "93    0.003495\n",
       "91    0.003361\n",
       "96    0.003241\n",
       "94    0.002855\n",
       "48    0.002402\n",
       "98    0.001977\n",
       "Name: Police_Force, dtype: float64"
      ]
     },
     "execution_count": 16,
     "metadata": {},
     "output_type": "execute_result"
    }
   ],
   "source": [
    "df.Police_Force.value_counts(normalize=True)"
   ]
  },
  {
   "cell_type": "code",
   "execution_count": 17,
   "metadata": {},
   "outputs": [
    {
     "data": {
      "text/plain": [
       "Metropolitan Police      0.188169\n",
       "West Midlands            0.042183\n",
       "Kent                     0.035912\n",
       "West Yorkshire           0.034649\n",
       "Thames Valley            0.034562\n",
       "Hampshire                0.031583\n",
       "Sussex                   0.030534\n",
       "Devon and Cornwall       0.027638\n",
       "Greater Manchester       0.027149\n",
       "Surrey                   0.026759\n",
       "Essex                    0.026533\n",
       "Lancashire               0.026511\n",
       "Strathclyde              0.024540\n",
       "Avon and Somerset        0.022838\n",
       "South Yorkshire          0.021377\n",
       "Northumbria              0.020692\n",
       "Nottinghamshire          0.019463\n",
       "Merseyside               0.018634\n",
       "Humberside               0.018238\n",
       "Hertfordshire            0.017558\n",
       "Cheshire                 0.017057\n",
       "Staffordshire            0.016441\n",
       "West Mercia              0.016063\n",
       "Lincolnshire             0.015356\n",
       "Leicestershire           0.014830\n",
       "Cambridgeshire           0.014776\n",
       "Derbyshire               0.014764\n",
       "South Wales              0.014678\n",
       "North Yorkshire          0.013971\n",
       "Lothian and Borders      0.013742\n",
       "Norfolk                  0.013380\n",
       "Dorset                   0.011959\n",
       "Suffolk                  0.011699\n",
       "Bedfordshire             0.011194\n",
       "Wiltshire                0.010911\n",
       "Warwickshire             0.010495\n",
       "Cumbria                  0.009398\n",
       "Dyfed-Powys              0.009139\n",
       "Northamptonshire         0.008861\n",
       "North Wales              0.008685\n",
       "Durham                   0.007896\n",
       "Gloucestershire          0.006070\n",
       "Cleveland                0.005876\n",
       "Gwent                    0.005403\n",
       "Grampian                 0.004504\n",
       "Tayside                  0.003495\n",
       "Northern                 0.003361\n",
       "Central                  0.003241\n",
       "Fife                     0.002855\n",
       "City of London           0.002402\n",
       "Dumfries and Galloway    0.001977\n",
       "Name: Police_Force, dtype: float64"
      ]
     },
     "execution_count": 17,
     "metadata": {},
     "output_type": "execute_result"
    }
   ],
   "source": [
    "# Change Police_Force to proper labels\n",
    "df.Police_Force = df.Police_Force.replace([1,3,4,5,6,7,10,11,12,13,14,16,17,20,21,22,23,30,31,32,33,34,35,36,37,\n",
    "                                           40,41,42,43,44,45,46,47,48,50,52,53,54,55,60,61,62,63,91,92,93,94,95,96,97,98], \n",
    "                                                                    ['Metropolitan Police','Cumbria','Lancashire','Merseyside',\n",
    "                                                                     'Greater Manchester','Cheshire','Northumbria','Durham','North Yorkshire',\n",
    "                                                                     'West Yorkshire','South Yorkshire','Humberside','Cleveland',\n",
    "                                                                     'West Midlands','Staffordshire','West Mercia',\n",
    "                                                                     'Warwickshire','Derbyshire','Nottinghamshire','Lincolnshire',\n",
    "                                                                     'Leicestershire','Northamptonshire','Cambridgeshire',\n",
    "                                                                     'Norfolk','Suffolk','Bedfordshire',\n",
    "                                                                     'Hertfordshire','Essex','Thames Valley',\n",
    "                                                                     'Hampshire','Surrey','Kent','Sussex','City of London', \n",
    "                                                                     'Devon and Cornwall','Avon and Somerset','Gloucestershire',\n",
    "                                                                     'Wiltshire','Dorset','North Wales','Gwent',\n",
    "                                                                     'South Wales','Dyfed-Powys','Northern','Grampian',\n",
    "                                                                     'Tayside','Fife','Lothian and Borders','Central','Strathclyde',\n",
    "                                                                     'Dumfries and Galloway'])\n",
    "df.Police_Force.value_counts(normalize=True)"
   ]
  },
  {
   "cell_type": "code",
   "execution_count": 18,
   "metadata": {},
   "outputs": [
    {
     "data": {
      "text/plain": [
       "300    0.020166\n",
       "204    0.013242\n",
       "1      0.011752\n",
       "9      0.009376\n",
       "596    0.009110\n",
       "         ...   \n",
       "915    0.000409\n",
       "57     0.000275\n",
       "941    0.000193\n",
       "936    0.000162\n",
       "933    0.000143\n",
       "Name: Local_Authority_(District), Length: 380, dtype: float64"
      ]
     },
     "execution_count": 18,
     "metadata": {},
     "output_type": "execute_result"
    }
   ],
   "source": [
    "df['Local_Authority_(District)'].value_counts(normalize=True)"
   ]
  },
  {
   "cell_type": "code",
   "execution_count": 19,
   "metadata": {},
   "outputs": [
    {
     "data": {
      "text/plain": [
       "Birmingham                   0.020166\n",
       "Leeds                        0.013242\n",
       "Westminster                  0.011752\n",
       "Lambeth                      0.009376\n",
       "Cornwall                     0.009110\n",
       "                               ...   \n",
       "Clackmannanshire             0.000409\n",
       "London Airport (Heathrow)    0.000275\n",
       "Western Isles                0.000193\n",
       "Shetland Islands             0.000162\n",
       "Orkney Islands               0.000143\n",
       "Name: Local_Authority_(District), Length: 380, dtype: float64"
      ]
     },
     "execution_count": 19,
     "metadata": {},
     "output_type": "execute_result"
    }
   ],
   "source": [
    "# Change Local_Authority_(District) to proper labels\n",
    "df['Local_Authority_(District)']= df['Local_Authority_(District)'].replace([1,2,3,4,5,6,7,8,9,10,11,12,13,14,15,16,17,18,19,20,21,\n",
    "                                                                            22,23,24,25,26,27,28,29,30,31,32,33,38,40,57,60,61,62,63,64,65,70,71,72,73,74,75,76,77,79,80,82,83,\n",
    "                                                                            84,85,90,91,92,93,95,100,101,102,104,106,107,109,110,112,114,120,121,122,123,124,126,127,128,129,130,\n",
    "                                                                            139,140,141,142,143,144,145,146,147,148,149,150,160,161,162,163,164,165,166,168,\n",
    "                                                                            169,180,181,182,184,185,186,187,189,200,202,203,204,206,210,211,213,215,228,231,232,233,240,241,243\n",
    "                                                                            ,245,250,251,252,253,254,255,256,257,258,270,273,\n",
    "                                                                            274,276,277,278,279,280,281,282,283,284,285,286,290,291,292,293,294,300,302,303,305,306,307,309,320,321,322,323,324,\n",
    "                                                                            325,327,328,329,340,341,342,343,344,345,346,347,350,351,352,353,354,355,356,360,361,362,363,364,365,366,367,368,380,381,\n",
    "                                                                            382,383,384,385,386,390,391,392,393,394,395,400,401,402,404,405,406,407,410,411,412,413,414,\n",
    "                                                                            415,416,420,421,422,423,424,430,431,432,433,434,435,\n",
    "                                                                            436,437,438,450,451,452,453,454,455,456,457,458,459,460,461,462,463,470,471,472,473,474,475,476,477,478,479,\n",
    "                                                                            480,481,482,483,484,\n",
    "                                                                            485,490,491,492,493,494,495,496,497,498,499,500,\n",
    "                                                                            501,502,505,510,511,512,513,514,515,516,517,518,530,531,532,533,535,536,538,539,540,541,542,543,544,551,552,554,555,\n",
    "                                                                            556,557,558,559,560,562,563,564,565,\n",
    "                                                                            570,580,581,582,583,584,585,586,587,588,589,590,591,\n",
    "                                                                            592,593,594,595,596,601,605,606,607,608,609,610,611,\n",
    "                                                                            612,620,621,622,623,624,625,630,631,632,633,634,635,\n",
    "                                                                            640,641,642,643,644,645,646,647,720,721,722,723,724,\n",
    "                                                                            725,730,731,732,733,734,740,741,742,743,744,745,746,750,751,752,\n",
    "                                                                            753,910,911,912,913,914,915,916,917,918,919,920,921,922,923,924,925,926,927,928,929,930,\n",
    "                                                                            931,932,933,934,935,936,937,938,939,940,941], \n",
    "                                                                    ['Westminster','Camden','Islington','Hackney','Tower Hamlets'\n",
    "                                                                     ,'Greenwich','Lewisham','Southwark',\n",
    "                                                                     'Lambeth','Wandsworth','Hammersmith and Fulham',\n",
    "                                                                     'Kensington and Chelsea','Waltham Forest',\n",
    "                                                                     'Redbridge','Havering','Barking and Dagenham'\n",
    "                                                                     ,'Newham','Bexley','Bromley','Croydon','Sutton',\n",
    "                                                                     'Merton','Kingston upon Thames','Richmond upon Thames'\n",
    "                                                                     ,'Hounslow','Hillingdon','Ealing','Brent','Harrow'\n",
    "                                                                     ,'Barnet','Haringey','Enfield','Hertsmere',\n",
    "                                                                     'Epsom and Ewell','Spelthorne','London Airport (Heathrow)',\n",
    "                                                                     'Allerdale','Barrow-in-Furness','Carlisle','Copeland','Eden','South Lakeland',\n",
    "                                                                     'Blackburn with Darwen','Blackpool','Burnley','Chorley',\n",
    "                                                                     'Fylde','Hyndburn','Lancaster','Pendle','Preston','Ribble Valley','Rossendale',\n",
    "                                                                     'South Ribble','West Lancashire','Wyre','Knowsley',\n",
    "                                                                     'Liverpool','St. Helens','Sefton','Wirral','Bolton','Bury','Manchester','Oldham','Rochdale','Salford','Stockport','Tameside',\n",
    "                                                                     'Trafford','Wigan','Chester','Congleton','Crewe and Nantwich',\n",
    "                                                                     'Ellesmere Port and Neston','Halton','Macclesfield','Vale Royal','Warrington',\n",
    "                                                                     'Cheshire East','Cheshire West and Chester','Northumberland','Alnwick',\n",
    "                                                                     'Berwick-upon-Tweed','Blyth Valley','Castle Morpeth','Tynedale','Wansbeck','Gateshead',\n",
    "                                                                     'Newcastle upon Tyne',\n",
    "                                                                     'North Tyneside','South Tyneside','Sunderland',\n",
    "                                                                     'Chester-le-Street','Darlington','Derwentside','Durham','Easington','Sedgefield',\n",
    "                                                                     'Teesdale','Wear Valley','County Durham','Craven','Hambleton','Harrogate','Richmondshire','Ryedale',\n",
    "                                                                     'Scarborough','Selby','York','Bradford','Calderdale','Kirklees','Leeds','Wakefield','Barnsley',\n",
    "                                                                     'Doncaster','Rotherham','Sheffield','Kingston upon Hull, City of','East Riding of Yorkshire',\n",
    "                                                                     'North Lincolnshire','North East Lincolnshire','Hartlepool','Redcar and Cleveland','Middlesbrough','Stockton-on-Tees',\n",
    "                                                                     'Cannock Chase','East Staffordshire','Lichfield','Newcastle-under-Lyme','South Staffordshire','Stafford',\n",
    "                                                                     'Staffordshire Moorlands','Stoke-on-Trent','Tamworth','Bromsgrove','Malvern Hills','Redditch','Worcester','Wychavon',\n",
    "                                                                     'Wyre Forest','Bridgnorth','North Shropshire','Oswestry','Shrewsbury and Atcham',\n",
    "                                                                     'South Shropshire','Telford and Wrekin','Herefordshire, County of',\n",
    "                                                                     'Shropshire','North Warwickshire','Nuneaton and Bedworth','Rugby','Stratford-upon-Avon','Warwick',\n",
    "                                                                     'Birmingham','Coventry','Dudley','Sandwell','Solihull','Walsall','Wolverhampton','Amber Valley','Bolsover',\n",
    "                                                                     'Chesterfield','Derby','Erewash','High Peak','North East Derbyshire','South Derbyshire'\n",
    "                                                                     ,'Derbyshire Dales','Ashfield','Bassetlaw','Broxtowe','Gedling','Mansfield','Newark and Sherwood','Nottingham','Rushcliffe','Boston'\n",
    "                                                                     ,'East Lindsey','Lincoln','North Kesteven','South Holland','South Kesteven','West Lindsey','Blaby','Hinckley and Bosworth','Charnwood',\n",
    "                                                                     'Harborough','Leicester','Melton','North West Leicestershire','Oadby and Wigston','Rutland','Corby',\n",
    "                                                                     'Daventry','East Northamptonshire','Kettering','Northampton','South Northamptonshire','Wellingborough','Cambridge',\n",
    "                                                                     'East Cambridgeshire','Fenland','Huntingdonshire','Peterborough','South Cambridgeshire','Breckland','Broadland','Great Yarmouth',\n",
    "                                                                     'Norwich','North Norfolk','South Norfolk','Kings Lynn and West Norfolk','Babergh','Forest Heath','Ipswich','Mid Suffolk','St. Edmundsbury','Suffolk Coastal',\n",
    "                                                                     'Waveney','Bedford','Luton','Mid Bedfordshire','South Bedfordshire','Central Bedfordshire','Broxbourne','Dacorum',\n",
    "                                                                     'East Hertfordshire','North Hertfordshire','St. Albans','Stevenage','Three Rivers','Watford','Welwyn Hatfield','Basildon','Braintree',\n",
    "                                                                     'Brentwood','Castle Point','Chelmsford','Colchester','Epping Forest','Harlow','Maldon','Rochford','Southend-on-Sea','Tendring',\n",
    "                                                                     'Thurrock','Uttlesford','Bracknell Forest',\n",
    "                                                                     'West Berkshire','Reading','Slough','Windsor and Maidenhead','Wokingham',\n",
    "                                                                     'Aylesbury Vale','South Bucks','Chiltern','Milton Keynes','Wycombe','Cherwell','Oxford','Vale of White Horse',\n",
    "                                                                     'South Oxfordshire','West Oxfordshire',\n",
    "                                                                     'Basingstoke and Deane','Eastleigh','Fareham','Gosport',\n",
    "                                                                     'Hart','Havant','New Forest','East Hampshire','Portsmouth','Rushmoor','Southampton','Test Valley',\n",
    "                                                                     'Winchester','Isle of Wight','Elmbridge','Guildford','Mole Valley','Reigate and Banstead','Runnymede','Surrey Heath',\n",
    "                                                                     'Tandridge','Waverley','Woking','Ashford','Canterbury','Dartford','Dover','Gravesham','Maidstone',\n",
    "                                                                     'Sevenoaks','Shepway','Swale','Thanet','Tonbridge and Malling','Tunbridge Wells','Medway','Eastbourne','Hastings','Lewes','Rother','Wealden',\n",
    "                                                                     'Adur','Arun','Chichester','Crawley','Horsham',\n",
    "                                                                     'Mid Sussex','Worthing','Brighton and Hove','City of London','East Devon','Exeter',\n",
    "                                                                     'North Devon','Plymouth','South Hams','Teignbridge',\n",
    "                                                                     'Mid Devon','Torbay','Torridge','West Devon','Caradon','Carrick','Kerrier','North Cornwall','Penwith',\n",
    "                                                                     'Restormel','Cornwall',\n",
    "                                                                     'Bristol, City of','North Somerset','Mendip','Sedgemoor','Taunton Deane','West Somerset','South Somerset',\n",
    "                                                                     'Bath and North East Somerset','South Gloucestershire','Cheltenham','Cotswold','Forest of Dean','Gloucester',\n",
    "                                                                     'Stroud','Tewkesbury','Kennet','North Wiltshire','Salisbury','Swindon','West Wiltshire','Wiltshire',\n",
    "                                                                     'Bournemouth','Christchurch','North Dorset','Poole','Purbeck','West Dorset','Weymouth and Portland','East Dorset',\n",
    "                                                                     'Isle of Anglesey','Conwy','Gwynedd','Denbighshire',\n",
    "                                                                     'Flintshire','Wrexham','Blaenau Gwent','Caerphilly','Monmouthshire','Newport',\n",
    "                                                                     'Torfaen','Bridgend','Cardiff','Merthyr Tydfil',\n",
    "                                                                     'Neath Port Talbot','Rhondda, Cynon, Taff','Swansea',\n",
    "                                                                     'The Vale of Glamorgan','Ceredigion','Carmarthenshire','Pembrokeshire',\n",
    "                                                                     'Powys','Aberdeen City','Aberdeenshire','Angus',\n",
    "                                                                     'Argyll and Bute','Scottish Borders','Clackmannanshire','West Dunbartonshire','Dumfries and Galloway','Dundee City','East Ayrshire',\n",
    "                                                                     'East Dunbartonshire','East Lothian','East Renfrewshire','Edinburgh, City of','Falkirk','Fife','Glasgow City',\n",
    "                                                                     'Highland','Inverclyde','Midlothian','Moray','North Ayrshire','North Lanarkshire','Orkney Islands','Perth and Kinross','Renfrewshire',\n",
    "                                                                     'Shetland Islands','South Ayrshire','South Lanarkshire','Stirling','West Lothian','Western Isles'])\n",
    "df['Local_Authority_(District)'].value_counts(normalize=True)"
   ]
  },
  {
   "cell_type": "code",
   "execution_count": 20,
   "metadata": {},
   "outputs": [
    {
     "data": {
      "text/plain": [
       "E10000016    0.031244\n",
       "E10000030    0.026759\n",
       "E10000012    0.021377\n",
       "E10000014    0.020839\n",
       "E10000017    0.020802\n",
       "               ...   \n",
       "EHEATHROW    0.000275\n",
       "S12000013    0.000193\n",
       "S12000027    0.000162\n",
       "S12000023    0.000143\n",
       "E06000053    0.000012\n",
       "Name: Local_Authority_(Highway), Length: 207, dtype: float64"
      ]
     },
     "execution_count": 20,
     "metadata": {},
     "output_type": "execute_result"
    }
   ],
   "source": [
    "df['Local_Authority_(Highway)'].value_counts(normalize=True)"
   ]
  },
  {
   "cell_type": "code",
   "execution_count": 21,
   "metadata": {},
   "outputs": [
    {
     "data": {
      "text/plain": [
       "Kent                                    0.031244\n",
       "Surrey                                  0.026759\n",
       "Essex                                   0.021377\n",
       "Hampshire                               0.020839\n",
       "Lancashire                              0.020802\n",
       "                                          ...   \n",
       "London Airport (Heathrow)               0.000275\n",
       "Na h-Eileanan an Iar (Western Isles)    0.000193\n",
       "Shetland Islands                        0.000162\n",
       "Orkney Islands                          0.000143\n",
       "Isles of Scilly                         0.000012\n",
       "Name: Local_Authority_(Highway), Length: 207, dtype: float64"
      ]
     },
     "execution_count": 21,
     "metadata": {},
     "output_type": "execute_result"
    }
   ],
   "source": [
    "# Change Local_Authority_(Highway) to proper labels\n",
    "df['Local_Authority_(Highway)']= df['Local_Authority_(Highway)'].replace(['S12000033','S12000034','S12000041','S12000035',\n",
    "                                                                          'E09000002'\n",
    "                                                                          ,'E09000003','E08000016','E06000022','E06000055',\n",
    "                                                                          'E09000004',\n",
    "                                                                          'E08000025','E06000008','E06000009','W06000019',\n",
    "                                                                          'E08000001',\n",
    "                                                                          'E06000028','E06000036','E08000032','E09000005',\n",
    "                                                                          'W06000013',\n",
    "                                                                          'E06000043','E06000023','E09000006','E10000002',\n",
    "                                                                          'E08000002',\n",
    "                                                                          'W06000018','E08000033','E10000003','E09000007',\n",
    "                                                                          'W06000015',\n",
    "                                                                          'W06000010','E06000056','W06000008','E06000049',\n",
    "                                                                          'E06000050','E09000001'\n",
    "                                                                          ,'S12000005','W06000003','E06000052','E06000047',\n",
    "                                                                          'E08000026','E09000008'\n",
    "                                                                          ,'E10000006','E06000005','W06000004','E06000015',\n",
    "                                                                          'E10000007',\n",
    "                                                                          'E10000008','E08000017','E10000009','E08000027',\n",
    "                                                                          'S12000006','S12000042'\n",
    "                                                                          ,'E09000009','S12000008','S12000009','S12000010'\n",
    "                                                                          ,'S12000011','E06000011','E10000011','S12000036',\n",
    "                                                                          'E09000010','E10000012'\n",
    "                                                                          ,'S12000014','S12000015','W06000005','E08000020',\n",
    "                                                                          'S12000043'\n",
    "                                                                          ,'E10000013','E09000011','W06000002','E09000012',\n",
    "                                                                          'E06000006','E09000013'\n",
    "                                                                          ,'E10000014','E09000014','E09000015','E06000001',\n",
    "                                                                          'E09000016','E06000019'\n",
    "                                                                          ,'E10000015','S12000017','E09000017','E09000018',\n",
    "                                                                          'S12000018'\n",
    "                                                                          ,'W06000001','E06000046','E06000053',\n",
    "                                                                          'E09000019','E09000020'\n",
    "                                                                          ,'E10000016','E06000010','E09000021','E08000034',\n",
    "                                                                          'E08000011'\n",
    "                                                                          ,'E09000022','E10000017','E08000035','E06000016',\n",
    "                                                                          'E10000018'\n",
    "                                                                          ,'E09000023','E10000019','E08000012','EHEATHROW',\n",
    "                                                                          'E06000032',\n",
    "                                                                          'E08000003','E06000035','W06000024','E09000024',\n",
    "                                                                          'E06000002'\n",
    "                                                                          ,'S12000019','E06000042','W06000021','S12000020',\n",
    "                                                                          'S12000013'\n",
    "                                                                          ,'W06000012','E08000021','E09000025','W06000022',\n",
    "                                                                          'E10000020','S12000021'\n",
    "                                                                          ,'E06000012','S12000044','E06000013','E06000024',\n",
    "                                                                          'E08000022','E10000023'\n",
    "                                                                          ,'E10000021','E06000048','E06000018','E10000024',\n",
    "                                                                          'E08000004'\n",
    "                                                                          ,'S12000023','E10000025','W06000009','S12000024',\n",
    "                                                                          'E06000031'\n",
    "                                                                          ,'E06000026','E06000029','E06000044','W06000023',\n",
    "                                                                          'E06000038','E09000026'\n",
    "                                                                          ,'E06000003','S12000038','W06000016','E09000027',\n",
    "                                                                          'E08000005','E08000018'\n",
    "                                                                          ,'E06000017','E08000006','E08000028','S12000026',\n",
    "                                                                          'E08000014'\n",
    "                                                                          ,'E08000019','S12000027','E06000051','E06000039',\n",
    "                                                                          'E08000029'\n",
    "                                                                          ,'E10000027','S12000028','E06000025','S12000029',\n",
    "                                                                          'E08000023',\n",
    "                                                                          'E06000045','E06000033','E09000028','E08000013',\n",
    "                                                                          'E10000028'\n",
    "                                                                          ,'S12000030','E08000007','E06000004','E06000021',\n",
    "                                                                          'E10000029'\n",
    "                                                                          ,'E08000024','E10000030','E09000029','W06000011',\n",
    "                                                                          'E06000030'\n",
    "                                                                          ,'E08000008','E06000020','W06000014','E06000034',\n",
    "                                                                          'E06000027','W06000020'\n",
    "                                                                          ,'E09000030','E08000009','E08000036','E08000030',\n",
    "                                                                          'E09000031','E09000032'\n",
    "                                                                          ,'E06000007','E10000031','E06000037','S12000039',\n",
    "                                                                          'S12000040'\n",
    "                                                                          ,'E10000032','E09000033','E08000010','E06000054',\n",
    "                                                                          'E06000040'\n",
    "                                                                          ,'E08000015','E06000041','E08000031','E10000034'\n",
    "                                                                          ,'W06000006'\n",
    "                                                                          ,'E06000014'], \n",
    "                                                                    ['Aberdeen City','Aberdeenshire','Angus','Argyll & Bute',\n",
    "                                                                     'Barking and Dagenham','Barnet','Barnsley','Bath and North East Somerset',\n",
    "                                                                     'Bedford','Bexley','Birmingham','Blackburn with Darwen','Blackpool',\n",
    "                                                                     'Blaenau Gwent','Bolton','Bournemouth','Bracknell Forest','Bradford','Brent',\n",
    "                                                                     'Bridgend','Brighton and Hove','Bristol, City of','Bromley','Buckinghamshire',\n",
    "                                                                     'Bury','Caerphilly','Calderdale','Cambridgeshire','Camden','Cardiff',\n",
    "                                                                     'Carmarthenshire','Central Bedfordshire','Ceredigion','Cheshire East',\n",
    "                                                                     'Cheshire West and Chester','City of London','Clackmannanshire','Conwy',\n",
    "                                                                     'Cornwall','County Durham','Coventry','Croydon','Cumbria','Darlington',\n",
    "                                                                     'Denbighshire','Derby','Derbyshire','Devon','Doncaster','Dorset','Dudley',\n",
    "                                                                     'Dumfries & Galloway','Dundee City','Ealing','East Ayrshire',\n",
    "                                                                     'East Dunbartonshire','East Lothian','East Renfrewshire',\n",
    "                                                                     'East Riding of Yorkshire','East Sussex','Edinburgh, City of',\n",
    "                                                                     'Enfield','Essex','Falkirk','Fife','Flintshire','Gateshead','Glasgow City',\n",
    "                                                                     'Gloucestershire','Greenwich','Gwynedd','Hackney','Halton',\n",
    "                                                                     'Hammersmith and Fulham','Hampshire','Haringey','Harrow','Hartlepool',\n",
    "                                                                     'Havering','Herefordshire, County of','Hertfordshire','Highland','Hillingdon',\n",
    "                                                                     'Hounslow','Inverclyde','Isle of Anglesey','Isle of Wight','Isles of Scilly',\n",
    "                                                                     'Islington','Kensington and Chelsea','Kent','Kingston upon Hull, City of',\n",
    "                                                                     'Kingston upon Thames','Kirklees','Knowsley','Lambeth','Lancashire','Leeds',\n",
    "                                                                     'Leicester','Leicestershire','Lewisham','Lincolnshire','Liverpool',\n",
    "                                                                     'London Airport (Heathrow)','Luton','Manchester','Medway',\n",
    "                                                                     'Merthyr Tydfil','Merton','Middlesbrough','Midlothian','Milton Keynes',\n",
    "                                                                     'Monmouthshire','Moray','Na h-Eileanan an Iar (Western Isles)',\n",
    "                                                                     'Neath Port Talbot','Newcastle upon Tyne','Newham','Newport','Norfolk',\n",
    "                                                                     'North Ayrshire','North East Lincolnshire','North Lanarkshire',\n",
    "                                                                     'North Lincolnshire','North Somerset','North Tyneside','North Yorkshire',\n",
    "                                                                     'Northamptonshire','Northumberland','Nottingham','Nottinghamshire',\n",
    "                                                                     'Oldham','Orkney Islands','Oxfordshire','Pembrokeshire',\n",
    "                                                                     'Perth and Kinross','Peterborough','Plymouth','Poole','Portsmouth','Powys','Reading','Redbridge',\n",
    "                                                                     'Redcar and Cleveland','Renfrewshire','Rhondda, Cynon, Taff','Richmond upon Thames'\n",
    "                                                                     ,'Rochdale', 'Rotherham','Rutland','Salford','Sandwell','Scottish Borders','Sefton',\n",
    "                                                                     'Sheffield','Shetland Islands','Shropshire','Slough','Solihull','Somerset','South Ayrshire',\n",
    "                                                                     'South Gloucestershire','South Lanarkshire','South Tyneside',\n",
    "                                                                     'Southampton' ,'Southend-on-Sea','Southwark','St. Helens','Staffordshire',\n",
    "                                                                     'Stirling','Stockport','Stockton-on-Tees','Stoke-on-Trent','Suffolk','Sunderland','Surrey','Sutton',\n",
    "                                                                     'Swansea','Swindon',\n",
    "                                                                     'Tameside','Telford and Wrekin','The Vale of Glamorgan','Thurrock','Torbay',\n",
    "                                                                     'Torfaen','Tower Hamlets','Trafford','Wakefield','Walsall','Waltham Forest','Wandsworth',\n",
    "                                                                     'Warrington','Warwickshire','West Berkshire','West Dunbartonshire','West Lothian','West Sussex','Westminster',\n",
    "                                                                     'Wigan','Wiltshire','Windsor and Maidenhead','Wirral',\n",
    "                                                                     'Wokingham','Wolverhampton','Worcestershire','Wrexham',                                                                    \n",
    "                                                                     'York'])\n",
    "df['Local_Authority_(Highway)'].value_counts(normalize=True)"
   ]
  },
  {
   "cell_type": "code",
   "execution_count": 22,
   "metadata": {},
   "outputs": [
    {
     "data": {
      "text/plain": [
       " 1    0.765947\n",
       " 2    0.220007\n",
       " 3    0.014034\n",
       "-1    0.000012\n",
       "Name: Did_Police_Officer_Attend_Scene_of_Accident, dtype: float64"
      ]
     },
     "execution_count": 22,
     "metadata": {},
     "output_type": "execute_result"
    }
   ],
   "source": [
    "df['Did_Police_Officer_Attend_Scene_of_Accident'].value_counts(normalize=True)"
   ]
  },
  {
   "cell_type": "code",
   "execution_count": 23,
   "metadata": {},
   "outputs": [
    {
     "data": {
      "text/plain": [
       "Yes                                                                         0.765947\n",
       "No                                                                          0.220007\n",
       "No - accident was reported using a self completion  form (self rep only)    0.014034\n",
       "Data missing or out of range                                                0.000012\n",
       "Name: Did_Police_Officer_Attend_Scene_of_Accident, dtype: float64"
      ]
     },
     "execution_count": 23,
     "metadata": {},
     "output_type": "execute_result"
    }
   ],
   "source": [
    "# Change Local_Authority_(Highway) to proper labels\n",
    "df['Did_Police_Officer_Attend_Scene_of_Accident'] = df['Did_Police_Officer_Attend_Scene_of_Accident'].replace([1,2,3,-1], \n",
    "                                                                        ['Yes','No',\n",
    "                                                                         'No - accident was reported using a self completion  form (self rep only)',\n",
    "                                                                         'Data missing or out of range'])\n",
    "df['Did_Police_Officer_Attend_Scene_of_Accident'].value_counts(normalize=True)"
   ]
  },
  {
   "cell_type": "code",
   "execution_count": 24,
   "metadata": {},
   "outputs": [
    {
     "data": {
      "text/plain": [
       " 0    0.980861\n",
       "-1    0.010413\n",
       " 2    0.005905\n",
       " 1    0.002821\n",
       "Name: Pedestrian_Crossing-Human_Control, dtype: float64"
      ]
     },
     "execution_count": 24,
     "metadata": {},
     "output_type": "execute_result"
    }
   ],
   "source": [
    "df['Pedestrian_Crossing-Human_Control'].value_counts(normalize=True)"
   ]
  },
  {
   "cell_type": "code",
   "execution_count": 25,
   "metadata": {},
   "outputs": [
    {
     "data": {
      "text/plain": [
       "None within 50 metres                 0.980861\n",
       "Data missing or out of range          0.010413\n",
       "Control by other authorised person    0.005905\n",
       "Control by school crossing patrol     0.002821\n",
       "Name: Pedestrian_Crossing-Human_Control, dtype: float64"
      ]
     },
     "execution_count": 25,
     "metadata": {},
     "output_type": "execute_result"
    }
   ],
   "source": [
    "# Change Pedestrian_Crossing-Human_Control to proper labels\n",
    "df['Pedestrian_Crossing-Human_Control'] = df['Pedestrian_Crossing-Human_Control'].replace([0,1,2,-1], \n",
    "                                                                        ['None within 50 metres', \n",
    "                                                                         'Control by school crossing patrol',\n",
    "                                                                         'Control by other authorised person',\n",
    "                                                                         'Data missing or out of range'])\n",
    "df['Pedestrian_Crossing-Human_Control'].value_counts(normalize=True)"
   ]
  },
  {
   "cell_type": "code",
   "execution_count": 26,
   "metadata": {},
   "outputs": [
    {
     "data": {
      "text/plain": [
       " 0    0.796497\n",
       " 5    0.076446\n",
       " 4    0.057529\n",
       " 1    0.033022\n",
       " 8    0.023636\n",
       "-1    0.010319\n",
       " 7    0.002553\n",
       "Name: Pedestrian_Crossing-Physical_Facilities, dtype: float64"
      ]
     },
     "execution_count": 26,
     "metadata": {},
     "output_type": "execute_result"
    }
   ],
   "source": [
    "df['Pedestrian_Crossing-Physical_Facilities'].value_counts(normalize=True)"
   ]
  },
  {
   "cell_type": "code",
   "execution_count": 27,
   "metadata": {},
   "outputs": [
    {
     "data": {
      "text/plain": [
       "No physical crossing facilities within 50 metres                             0.796497\n",
       "Pedestrian phase at traffic signal junction                                  0.076446\n",
       "Pelican, puffin, toucan or similar non-junction pedestrian light crossing    0.057529\n",
       "Zebra                                                                        0.033022\n",
       "Central refuge                                                               0.023636\n",
       "Data missing or out of range                                                 0.010319\n",
       "Footbridge or subway                                                         0.002553\n",
       "Name: Pedestrian_Crossing-Physical_Facilities, dtype: float64"
      ]
     },
     "execution_count": 27,
     "metadata": {},
     "output_type": "execute_result"
    }
   ],
   "source": [
    "# Change Pedestrian_Crossing-Physical_Facilities to proper labels\n",
    "df['Pedestrian_Crossing-Physical_Facilities'] = df['Pedestrian_Crossing-Physical_Facilities'].replace([0,1,4,5,7,8,-1], \n",
    "                                                                        ['No physical crossing facilities within 50 metres',\n",
    "                                                                         'Zebra',\n",
    "                                                                         'Pelican, puffin, toucan or similar non-junction pedestrian light crossing',\n",
    "                                                                         'Pedestrian phase at traffic signal junction',\n",
    "                                                                         'Footbridge or subway',\n",
    "                                                                         'Central refuge',\n",
    "                                                                         'Data missing or out of range'])\n",
    "df['Pedestrian_Crossing-Physical_Facilities'].value_counts(normalize=True)"
   ]
  },
  {
   "cell_type": "code",
   "execution_count": 28,
   "metadata": {},
   "outputs": [
    {
     "data": {
      "text/plain": [
       "6    0.163422\n",
       "5    0.152198\n",
       "4    0.150675\n",
       "3    0.150395\n",
       "2    0.142251\n",
       "7    0.130747\n",
       "1    0.110311\n",
       "Name: Day_of_Week, dtype: float64"
      ]
     },
     "execution_count": 28,
     "metadata": {},
     "output_type": "execute_result"
    }
   ],
   "source": [
    "df.Day_of_Week.value_counts(normalize=True)"
   ]
  },
  {
   "cell_type": "code",
   "execution_count": 29,
   "metadata": {},
   "outputs": [],
   "source": [
    "# Change Day_of_Week from int to object\n",
    "df.Day_of_Week = df.Day_of_Week.replace([1,2,3,4,5,6,7], \n",
    "                                 ['Sunday', 'Monday', 'Tuesday', 'Wednesday', 'Thursday', 'Friday', 'Saturday'])"
   ]
  },
  {
   "cell_type": "code",
   "execution_count": 30,
   "metadata": {},
   "outputs": [
    {
     "data": {
      "text/plain": [
       "3    0.451044\n",
       "6    0.317262\n",
       "4    0.122295\n",
       "5    0.071348\n",
       "1    0.035253\n",
       "2    0.002798\n",
       "Name: 1st_Road_Class, dtype: float64"
      ]
     },
     "execution_count": 30,
     "metadata": {},
     "output_type": "execute_result"
    }
   ],
   "source": [
    "df['1st_Road_Class'].value_counts(normalize=True)"
   ]
  },
  {
   "cell_type": "code",
   "execution_count": 31,
   "metadata": {},
   "outputs": [
    {
     "data": {
      "text/plain": [
       "A               0.451044\n",
       "Unclassified    0.317262\n",
       "B               0.122295\n",
       "C               0.071348\n",
       "Motorway        0.035253\n",
       "A(M)            0.002798\n",
       "Name: 1st_Road_Class, dtype: float64"
      ]
     },
     "execution_count": 31,
     "metadata": {},
     "output_type": "execute_result"
    }
   ],
   "source": [
    "df['1st_Road_Class'] = df['1st_Road_Class'].replace([1,2,3,4,5,6], \n",
    "                                                                        ['Motorway', 'A(M)', 'A', 'B', \n",
    "                                                                         'C', 'Unclassified'])\n",
    "df['1st_Road_Class'].value_counts(normalize=True)"
   ]
  },
  {
   "cell_type": "code",
   "execution_count": 32,
   "metadata": {},
   "outputs": [
    {
     "data": {
      "text/plain": [
       "-1    0.410172\n",
       " 6    0.404359\n",
       " 3    0.099487\n",
       " 5    0.040126\n",
       " 4    0.039255\n",
       " 1    0.005923\n",
       " 2    0.000678\n",
       "Name: 2nd_Road_Class, dtype: float64"
      ]
     },
     "execution_count": 32,
     "metadata": {},
     "output_type": "execute_result"
    }
   ],
   "source": [
    "df['2nd_Road_Class'].value_counts(normalize=True)"
   ]
  },
  {
   "cell_type": "code",
   "execution_count": 33,
   "metadata": {},
   "outputs": [
    {
     "data": {
      "text/plain": [
       "Not at junction or within 20 meters    0.410172\n",
       "Unclassified                           0.404359\n",
       "A                                      0.099487\n",
       "C                                      0.040126\n",
       "B                                      0.039255\n",
       "Motorway                               0.005923\n",
       "A(M)                                   0.000678\n",
       "Name: 2nd_Road_Class, dtype: float64"
      ]
     },
     "execution_count": 33,
     "metadata": {},
     "output_type": "execute_result"
    }
   ],
   "source": [
    "# Change 2nd_Road_Class to proper labels\n",
    "df['2nd_Road_Class'] = df['2nd_Road_Class'].replace([1,2,3,4,5,6,-1], \n",
    "                                                                        ['Motorway', 'A(M)', 'A', 'B', 'C', \n",
    "                                                                         'Unclassified', \n",
    "                                                                         'Not at junction or within 20 meters'])\n",
    "df['2nd_Road_Class'].value_counts(normalize=True)"
   ]
  },
  {
   "cell_type": "code",
   "execution_count": 34,
   "metadata": {},
   "outputs": [
    {
     "data": {
      "text/plain": [
       " 6    0.739676\n",
       " 3    0.149558\n",
       " 1    0.065526\n",
       " 2    0.022628\n",
       " 7    0.011568\n",
       " 9    0.011043\n",
       "-1    0.000001\n",
       "Name: Road_Type, dtype: float64"
      ]
     },
     "execution_count": 34,
     "metadata": {},
     "output_type": "execute_result"
    }
   ],
   "source": [
    "df.Road_Type.value_counts(normalize=True)"
   ]
  },
  {
   "cell_type": "code",
   "execution_count": 35,
   "metadata": {},
   "outputs": [
    {
     "data": {
      "text/plain": [
       "Single carriageway              0.739676\n",
       "Dual carriageway                0.149558\n",
       "Roundabout                      0.065526\n",
       "One way street                  0.022628\n",
       "Slip road                       0.011568\n",
       "Unknown                         0.011043\n",
       "Data missing or out of range    0.000001\n",
       "Name: Road_Type, dtype: float64"
      ]
     },
     "execution_count": 35,
     "metadata": {},
     "output_type": "execute_result"
    }
   ],
   "source": [
    "# Change Road_Type to proper labels\n",
    "df.Road_Type = df.Road_Type.replace([1,2,3,6,7,9,-1], \n",
    "                               ['Roundabout', 'One way street', 'Dual carriageway', 'Single carriageway', \n",
    "                                'Slip road', 'Unknown', 'Data missing or out of range'])\n",
    "df.Road_Type.value_counts(normalize=True)"
   ]
  },
  {
   "cell_type": "code",
   "execution_count": 36,
   "metadata": {},
   "outputs": [
    {
     "data": {
      "text/plain": [
       " 30.0    0.624026\n",
       " 60.0    0.133180\n",
       " 40.0    0.083310\n",
       " 70.0    0.066382\n",
       " 20.0    0.052762\n",
       " 50.0    0.040251\n",
       "-1.0     0.000086\n",
       " 10.0    0.000002\n",
       " 0.0     0.000001\n",
       "Name: Speed_limit, dtype: float64"
      ]
     },
     "execution_count": 36,
     "metadata": {},
     "output_type": "execute_result"
    }
   ],
   "source": [
    "df.Speed_limit.value_counts(normalize=True)"
   ]
  },
  {
   "cell_type": "code",
   "execution_count": 37,
   "metadata": {},
   "outputs": [
    {
     "data": {
      "text/plain": [
       "30.0                            0.624026\n",
       "60.0                            0.133180\n",
       "40.0                            0.083310\n",
       "70.0                            0.066382\n",
       "20.0                            0.052762\n",
       "50.0                            0.040251\n",
       "Data missing or out of range    0.000086\n",
       "10.0                            0.000002\n",
       "0.0                             0.000001\n",
       "Name: Speed_limit, dtype: float64"
      ]
     },
     "execution_count": 37,
     "metadata": {},
     "output_type": "execute_result"
    }
   ],
   "source": [
    "# Change Junction_Detail to proper labels\n",
    "df.Speed_limit = df.Speed_limit.replace([20,30,40,50,60,70,-1], \n",
    "                                        [20,30,40,50,60,70,'Data missing or out of range'])\n",
    "df.Speed_limit.value_counts(normalize=True)"
   ]
  },
  {
   "cell_type": "code",
   "execution_count": 38,
   "metadata": {},
   "outputs": [
    {
     "data": {
      "text/plain": [
       " 0    0.406496\n",
       " 3    0.309376\n",
       " 6    0.096831\n",
       " 1    0.085600\n",
       " 8    0.031880\n",
       " 9    0.029858\n",
       " 5    0.014412\n",
       " 2    0.013000\n",
       " 7    0.009443\n",
       "-1    0.003105\n",
       "Name: Junction_Detail, dtype: float64"
      ]
     },
     "execution_count": 38,
     "metadata": {},
     "output_type": "execute_result"
    }
   ],
   "source": [
    "df.Junction_Detail.value_counts(normalize=True)"
   ]
  },
  {
   "cell_type": "code",
   "execution_count": 39,
   "metadata": {},
   "outputs": [
    {
     "data": {
      "text/plain": [
       "Not at junction or within 20 meters    0.406496\n",
       "T or staggered junction                0.309376\n",
       "Crossroads                             0.096831\n",
       "Roundabout                             0.085600\n",
       "Private drive or entrance              0.031880\n",
       "Other junction                         0.029858\n",
       "Slip road                              0.014412\n",
       "Mini-roundabout                        0.013000\n",
       "More than 4 arms (not roundabout)      0.009443\n",
       "Data missing or out of range           0.003105\n",
       "Name: Junction_Detail, dtype: float64"
      ]
     },
     "execution_count": 39,
     "metadata": {},
     "output_type": "execute_result"
    }
   ],
   "source": [
    "# Change Junction_Detail to proper labels\n",
    "df.Junction_Detail = df.Junction_Detail.replace([0,1,2,3,5,6,7,8,9,-1], \n",
    "                                                                    ['Not at junction or within 20 meters', \n",
    "                                                                     'Roundabout', 'Mini-roundabout', \n",
    "                                                                     'T or staggered junction', 'Slip road', \n",
    "                                                                     'Crossroads', \n",
    "                                                                     'More than 4 arms (not roundabout)', \n",
    "                                                                     'Private drive or entrance', 'Other junction', \n",
    "                                                                     'Data missing or out of range'])\n",
    "df.Junction_Detail.value_counts(normalize=True)"
   ]
  },
  {
   "cell_type": "code",
   "execution_count": 40,
   "metadata": {},
   "outputs": [
    {
     "data": {
      "text/plain": [
       " 4    0.469631\n",
       "-1    0.415837\n",
       " 2    0.106410\n",
       " 3    0.005406\n",
       " 1    0.002296\n",
       " 0    0.000421\n",
       "Name: Junction_Control, dtype: float64"
      ]
     },
     "execution_count": 40,
     "metadata": {},
     "output_type": "execute_result"
    }
   ],
   "source": [
    "df.Junction_Control.value_counts(normalize=True)"
   ]
  },
  {
   "cell_type": "code",
   "execution_count": 41,
   "metadata": {},
   "outputs": [
    {
     "data": {
      "text/plain": [
       "Give way or uncontrolled               0.469631\n",
       "Data missing or out of range           0.415837\n",
       "Auto traffic signal                    0.106410\n",
       "Stop sign                              0.005406\n",
       "Authorised person                      0.002296\n",
       "Not at junction or within 20 metres    0.000421\n",
       "Name: Junction_Control, dtype: float64"
      ]
     },
     "execution_count": 41,
     "metadata": {},
     "output_type": "execute_result"
    }
   ],
   "source": [
    "# Change Junction_Control to proper labels\n",
    "df.Junction_Control = df.Junction_Control.replace([0,1,2,3,4,-1], \n",
    "                                                                      ['Not at junction or within 20 metres', \n",
    "                                                                       'Authorised person', 'Auto traffic signal', \n",
    "                                                                       'Stop sign', 'Give way or uncontrolled', \n",
    "                                                                       'Data missing or out of range'])\n",
    "df.Junction_Control.value_counts(normalize=True)"
   ]
  },
  {
   "cell_type": "code",
   "execution_count": 42,
   "metadata": {},
   "outputs": [
    {
     "data": {
      "text/plain": [
       " 1    0.725398\n",
       " 4    0.200121\n",
       " 6    0.051149\n",
       " 7    0.016979\n",
       " 5    0.006337\n",
       "-1    0.000016\n",
       "Name: Light_Conditions, dtype: float64"
      ]
     },
     "execution_count": 42,
     "metadata": {},
     "output_type": "execute_result"
    }
   ],
   "source": [
    "df.Light_Conditions.value_counts(normalize=True)"
   ]
  },
  {
   "cell_type": "code",
   "execution_count": 43,
   "metadata": {},
   "outputs": [
    {
     "data": {
      "text/plain": [
       "Daylight                        0.725398\n",
       "Darkness - lights lit           0.200121\n",
       "Darkness - no lighting          0.051149\n",
       "Darkness - lighting unknown     0.016979\n",
       "Darkness - lights unlit         0.006337\n",
       "Data missing or out of range    0.000016\n",
       "Name: Light_Conditions, dtype: float64"
      ]
     },
     "execution_count": 43,
     "metadata": {},
     "output_type": "execute_result"
    }
   ],
   "source": [
    "# Change Light_Conditions to proper labels\n",
    "df.Light_Conditions = df.Light_Conditions.replace([1,4,5,6,7,-1], \n",
    "                                                      ['Daylight', \n",
    "                                                       'Darkness - lights lit', \n",
    "                                                       'Darkness - lights unlit', \n",
    "                                                       'Darkness - no lighting', \n",
    "                                                       'Darkness - lighting unknown', \n",
    "                                                       'Data missing or out of range'])\n",
    "\n",
    "df.Light_Conditions.value_counts(normalize=True)"
   ]
  },
  {
   "cell_type": "code",
   "execution_count": 44,
   "metadata": {},
   "outputs": [
    {
     "data": {
      "text/plain": [
       " 1    0.808747\n",
       " 2    0.112320\n",
       " 9    0.024607\n",
       " 8    0.018560\n",
       " 5    0.012931\n",
       " 4    0.011468\n",
       " 3    0.005279\n",
       " 7    0.004557\n",
       " 6    0.001497\n",
       "-1    0.000035\n",
       "Name: Weather_Conditions, dtype: float64"
      ]
     },
     "execution_count": 44,
     "metadata": {},
     "output_type": "execute_result"
    }
   ],
   "source": [
    "df.Weather_Conditions.value_counts(normalize=True)"
   ]
  },
  {
   "cell_type": "code",
   "execution_count": 45,
   "metadata": {},
   "outputs": [
    {
     "data": {
      "text/plain": [
       "Fine no high winds              0.833354\n",
       "Raining no high winds           0.112320\n",
       "Other                           0.018560\n",
       "Raining + high winds            0.012931\n",
       "Fine + high winds               0.011468\n",
       "Snowing no high winds           0.005279\n",
       "Fog or mist                     0.004557\n",
       "Snowing + high winds            0.001497\n",
       "Data missing or out of range    0.000035\n",
       "Name: Weather_Conditions, dtype: float64"
      ]
     },
     "execution_count": 45,
     "metadata": {},
     "output_type": "execute_result"
    }
   ],
   "source": [
    "# Change Weather_Conditions to proper labels\n",
    "df.Weather_Conditions = df.Weather_Conditions.replace([1,2,3,4,5,6,7,8,9,-1], \n",
    "                                                                ['Fine no high winds', \n",
    "                                                                 'Raining no high winds', \n",
    "                                                                 'Snowing no high winds', \n",
    "                                                                 'Fine + high winds', \n",
    "                                                                 'Raining + high winds', \n",
    "                                                                 'Snowing + high winds', \n",
    "                                                                 'Fog or mist', 'Other', 'Fine no high winds', \n",
    "                                                                 'Data missing or out of range'])\n",
    "df.Weather_Conditions.value_counts(normalize=True)"
   ]
  },
  {
   "cell_type": "code",
   "execution_count": 46,
   "metadata": {},
   "outputs": [
    {
     "data": {
      "text/plain": [
       " 1    0.713888\n",
       " 2    0.259873\n",
       " 4    0.013466\n",
       "-1    0.006485\n",
       " 3    0.004990\n",
       " 5    0.001297\n",
       "Name: Road_Surface_Conditions, dtype: float64"
      ]
     },
     "execution_count": 46,
     "metadata": {},
     "output_type": "execute_result"
    }
   ],
   "source": [
    "df.Road_Surface_Conditions.value_counts(normalize=True)"
   ]
  },
  {
   "cell_type": "code",
   "execution_count": 47,
   "metadata": {},
   "outputs": [
    {
     "data": {
      "text/plain": [
       "Dry                             0.713888\n",
       "Wet or damp                     0.259873\n",
       "Frost or ice                    0.013466\n",
       "Data missing or out of range    0.006485\n",
       "Snow                            0.004990\n",
       "Flood over 3cm. deep            0.001297\n",
       "Name: Road_Surface_Conditions, dtype: float64"
      ]
     },
     "execution_count": 47,
     "metadata": {},
     "output_type": "execute_result"
    }
   ],
   "source": [
    "# Change Road_Surface_Conditions to proper labels\n",
    "df.Road_Surface_Conditions = df.Road_Surface_Conditions.replace([1,2,3,4,5,-1], \n",
    "                                                                                    ['Dry', \n",
    "                                                                                     'Wet or damp', \n",
    "                                                                                     'Snow', \n",
    "                                                                                     'Frost or ice', \n",
    "                                                                                     'Flood over 3cm. deep', \n",
    "                                                                                     'Data missing or out of range'])\n",
    "df.Road_Surface_Conditions.value_counts(normalize=True)"
   ]
  },
  {
   "cell_type": "code",
   "execution_count": 48,
   "metadata": {},
   "outputs": [
    {
     "data": {
      "text/plain": [
       " 0    0.971714\n",
       " 4    0.010788\n",
       "-1    0.006612\n",
       " 7    0.002708\n",
       " 6    0.002292\n",
       " 5    0.002231\n",
       " 1    0.001953\n",
       " 3    0.001323\n",
       " 2    0.000379\n",
       "Name: Special_Conditions_at_Site, dtype: float64"
      ]
     },
     "execution_count": 48,
     "metadata": {},
     "output_type": "execute_result"
    }
   ],
   "source": [
    "df.Special_Conditions_at_Site.value_counts(normalize=True)"
   ]
  },
  {
   "cell_type": "code",
   "execution_count": 49,
   "metadata": {},
   "outputs": [
    {
     "data": {
      "text/plain": [
       "None                                          0.971714\n",
       "Roadworks                                     0.010788\n",
       "Data missing or out of range                  0.006612\n",
       "Mud                                           0.002708\n",
       "Oil or diesel                                 0.002292\n",
       "Road surface defective                        0.002231\n",
       "Auto traffic singal - out                     0.001953\n",
       "Road sign or marking defective or obscured    0.001323\n",
       "Auto signal part defective                    0.000379\n",
       "Name: Special_Conditions_at_Site, dtype: float64"
      ]
     },
     "execution_count": 49,
     "metadata": {},
     "output_type": "execute_result"
    }
   ],
   "source": [
    "# Change Special_Conditions_at_Site to proper labels\n",
    "df.Special_Conditions_at_Site = df.Special_Conditions_at_Site.replace([0,1,2,3,4,5,6,7,-1],  \n",
    "                                                ['None', 'Auto traffic singal - out', \n",
    "                                                 'Auto signal part defective', \n",
    "                                                 'Road sign or marking defective or obscured', \n",
    "                                                 'Roadworks', 'Road surface defective', \n",
    "                                                 'Oil or diesel', 'Mud', 'Data missing or out of range'])\n",
    "\n",
    "df.Special_Conditions_at_Site.value_counts(normalize=True)"
   ]
  },
  {
   "cell_type": "code",
   "execution_count": 50,
   "metadata": {},
   "outputs": [
    {
     "data": {
      "text/plain": [
       " 0    0.976990\n",
       " 2    0.007643\n",
       "-1    0.006008\n",
       " 7    0.004072\n",
       " 6    0.002261\n",
       " 1    0.001529\n",
       " 3    0.001497\n",
       "Name: Carriageway_Hazards, dtype: float64"
      ]
     },
     "execution_count": 50,
     "metadata": {},
     "output_type": "execute_result"
    }
   ],
   "source": [
    "df.Carriageway_Hazards.value_counts(normalize=True)"
   ]
  },
  {
   "cell_type": "code",
   "execution_count": 51,
   "metadata": {},
   "outputs": [
    {
     "data": {
      "text/plain": [
       "None                                               0.976990\n",
       "Other object on road                               0.007643\n",
       "Data missing or out of range                       0.006008\n",
       "Any animal in carriageway (except ridden horse)    0.004072\n",
       "Pedestrian in carriageway - not injured            0.002261\n",
       "Vehicle load on road                               0.001529\n",
       "Previous accident                                  0.001497\n",
       "Name: Carriageway_Hazards, dtype: float64"
      ]
     },
     "execution_count": 51,
     "metadata": {},
     "output_type": "execute_result"
    }
   ],
   "source": [
    "# Change Carriageway_Hazards to proper labels\n",
    "df.Carriageway_Hazards = df.Carriageway_Hazards.replace([0,1,2,3,6,7,-1],  \n",
    "                                                ['None', 'Vehicle load on road', \n",
    "                                                 'Other object on road', \n",
    "                                                 'Previous accident',  \n",
    "                                                 'Pedestrian in carriageway - not injured', \n",
    "                                                 'Any animal in carriageway (except ridden horse)', \n",
    "                                                 'Data missing or out of range'])\n",
    "\n",
    "df.Carriageway_Hazards.value_counts(normalize=True)"
   ]
  },
  {
   "cell_type": "code",
   "execution_count": 52,
   "metadata": {},
   "outputs": [
    {
     "data": {
      "text/plain": [
       " 1    0.661222\n",
       " 2    0.338669\n",
       " 3    0.000107\n",
       "-1    0.000001\n",
       "Name: Urban_or_Rural_Area, dtype: float64"
      ]
     },
     "execution_count": 52,
     "metadata": {},
     "output_type": "execute_result"
    }
   ],
   "source": [
    "df.Urban_or_Rural_Area.value_counts(normalize=True)"
   ]
  },
  {
   "cell_type": "code",
   "execution_count": 53,
   "metadata": {},
   "outputs": [
    {
     "data": {
      "text/plain": [
       "Urban                           0.661222\n",
       "Rural                           0.338669\n",
       "Unallocated                     0.000107\n",
       "Data missing or out of range    0.000001\n",
       "Name: Urban_or_Rural_Area, dtype: float64"
      ]
     },
     "execution_count": 53,
     "metadata": {},
     "output_type": "execute_result"
    }
   ],
   "source": [
    "# Change Urban_or_Rural_Area to proper labels\n",
    "df.Urban_or_Rural_Area = df.Urban_or_Rural_Area.replace([1,2,3,-1], ['Urban', 'Rural', 'Unallocated',\n",
    "                                                                     'Data missing or out of range'])\n",
    "df.Urban_or_Rural_Area.value_counts(normalize=True)"
   ]
  },
  {
   "cell_type": "markdown",
   "metadata": {},
   "source": [
    "# Let us look further into some of the categorical data to see if they make sense!"
   ]
  },
  {
   "cell_type": "code",
   "execution_count": 54,
   "metadata": {},
   "outputs": [
    {
     "data": {
      "text/plain": [
       "array(['Fine no high winds', 'Other', 'Raining no high winds',\n",
       "       'Snowing no high winds', 'Fine + high winds',\n",
       "       'Raining + high winds', 'Fog or mist', 'Snowing + high winds',\n",
       "       'Data missing or out of range'], dtype=object)"
      ]
     },
     "execution_count": 54,
     "metadata": {},
     "output_type": "execute_result"
    }
   ],
   "source": [
    "df[\"1st_Road_Class\"].unique()  #unknowns: 'Unclassified'\n",
    "df[\"2nd_Road_Class\"].unique()  #unknowns: 'Unclassified'\n",
    "df[\"Accident_Severity\"].unique() #need to reclassify into binary variable for model simplification\n",
    "df[\"Carriageway_Hazards\"].unique() #unknowns: 'Data missing or out of range'\n",
    "#df[\"Date\"].unique()\n",
    "df[\"Day_of_Week\"].unique()\n",
    "df[\"Junction_Control\"].unique() #unknowns: 'Data missing or out of range'\n",
    "df[\"Junction_Detail\"].unique() #unknowns: 'Data missing or out of range'\n",
    "df[\"Did_Police_Officer_Attend_Scene_of_Accident\"].unique() #unknowns: 'Data missing or out of range'\n",
    "df[\"Pedestrian_Crossing-Human_Control\"].unique() #unknowns: 'Data missing or out of range'\n",
    "df[\"Pedestrian_Crossing-Physical_Facilities\"].unique() #unknowns: 'Data missing or out of range'\n",
    "df[\"Local_Authority_(District)\"].unique() #too many categories! might be unnecessary\n",
    "df[\"Local_Authority_(Highway)\"].unique() #too many categories! might be unnecessary\n",
    "df[\"Police_Force\"].unique()\n",
    "df[\"Light_Conditions\"].unique() #unknowns: 'Data missing or out of range'\n",
    "df[\"Road_Surface_Conditions\"].unique() #unknowns: 'Data missing or out of range'\n",
    "df[\"Road_Type\"].unique() #unknowns: 'Unknown'\n",
    "df[\"Special_Conditions_at_Site\"].unique() #unknowns: 'Data missing or out of range'\n",
    "#df[\"Time\"].unique()\n",
    "df[\"Speed_limit\"].unique() #unknowns: 'Data missing or out of range'\n",
    "df[\"Urban_or_Rural_Area\"].unique() #unknowns: 'Unallocated' ... is that really unknown?\n",
    "df[\"Weather_Conditions\"].unique() #unknowns: 'Other', 'Unknown','Data missing or out of range'"
   ]
  },
  {
   "cell_type": "markdown",
   "metadata": {},
   "source": [
    " We can see above that although we removed NULL values, most of the categorical columns still contain values that are not quite useful when making a prediction."
   ]
  },
  {
   "cell_type": "code",
   "execution_count": 55,
   "metadata": {},
   "outputs": [
    {
     "name": "stdout",
     "output_type": "stream",
     "text": [
      "1st_Road_Class : 295629\n",
      "2nd_Road_Class : 295629\n",
      "Carriageway_Hazards : 5598\n",
      "Junction_Control : 387482\n",
      "Junction_Detail : 2893\n",
      "Light_Conditions : 15\n",
      "Speed_limit : 80\n",
      "Road_Surface_Conditions : 6043\n",
      "Road_Type : 10290\n",
      "Special_Conditions_at_Site : 6161\n",
      "Urban_or_Rural_Area : 100\n",
      "Weather_Conditions : 17327\n",
      "Did_Police_Officer_Attend_Scene_of_Accident : 11\n",
      "Pedestrian_Crossing-Human_Control : 9703\n",
      "Pedestrian_Crossing-Physical_Facilities : 9615\n"
     ]
    }
   ],
   "source": [
    "print(\"1st_Road_Class\",\":\",(df[\"1st_Road_Class\"]=='Unclassified').sum())\n",
    "print(\"2nd_Road_Class\",\":\",(df[\"1st_Road_Class\"]=='Unclassified').sum())\n",
    "print(\"Carriageway_Hazards\",\":\",(df[\"Carriageway_Hazards\"]=='Data missing or out of range').sum())\n",
    "print(\"Junction_Control\",\":\",(df[\"Junction_Control\"]=='Data missing or out of range').sum())\n",
    "print(\"Junction_Detail\",\":\",(df[\"Junction_Detail\"]=='Data missing or out of range').sum())\n",
    "print(\"Light_Conditions\",\":\",(df[\"Light_Conditions\"]=='Data missing or out of range').sum())\n",
    "print(\"Speed_limit\",\":\",(df[\"Speed_limit\"]=='Data missing or out of range').sum())\n",
    "print(\"Road_Surface_Conditions\",\":\",(df[\"Road_Surface_Conditions\"]=='Data missing or out of range').sum())\n",
    "print(\"Road_Type\",\":\",(df[\"Road_Type\"]=='Unknown').sum())\n",
    "print(\"Special_Conditions_at_Site\",\":\",(df[\"Special_Conditions_at_Site\"]=='Data missing or out of range').sum())\n",
    "print(\"Urban_or_Rural_Area\",\":\",(df[\"Urban_or_Rural_Area\"]=='Unallocated').sum())\n",
    "print(\"Weather_Conditions\",\":\",(df[\"Weather_Conditions\"].isin(['Other','Unknown','Data missing or out of range'])).sum())\n",
    "print(\"Did_Police_Officer_Attend_Scene_of_Accident\",\":\",(df[\"Did_Police_Officer_Attend_Scene_of_Accident\"]=='Data missing or out of range').sum())\n",
    "print(\"Pedestrian_Crossing-Human_Control\",\":\",(df[\"Pedestrian_Crossing-Human_Control\"]=='Data missing or out of range').sum())\n",
    "print(\"Pedestrian_Crossing-Physical_Facilities\",\":\",(df[\"Pedestrian_Crossing-Physical_Facilities\"]=='Data missing or out of range').sum())"
   ]
  },
  {
   "cell_type": "markdown",
   "metadata": {},
   "source": [
    "As with nulls, we will delete columns that contain mostly meaningless data. Otherwise, we will remove records with remaining meaningless values."
   ]
  },
  {
   "cell_type": "code",
   "execution_count": 56,
   "metadata": {},
   "outputs": [],
   "source": [
    "#otherwise drop records with meaningless data\n",
    "df=df[df[\"Carriageway_Hazards\"]!='Data missing or out of range']\n",
    "df=df[df[\"Junction_Detail\"]!='Data missing or out of range']\n",
    "df=df[df[\"Light_Conditions\"]!='Data missing or out of range']\n",
    "df=df[df[\"Speed_limit\"]!='Data missing or out of range']\n",
    "df=df[df[\"Road_Surface_Conditions\"]!='Data missing or out of range']\n",
    "df=df[df[\"Road_Type\"]!='Unknown']\n",
    "df=df[df[\"Junction_Control\"]!='Data missing or out of range']\n",
    "df=df[df[\"Special_Conditions_at_Site\"]!='Data missing or out of range']\n",
    "df=df[df[\"Urban_or_Rural_Area\"]!='Unallocated']\n",
    "df=df[~df[\"Weather_Conditions\"].isin(['Other','Unknown','Data missing or out of range'])]\n",
    "df=df[df[\"Did_Police_Officer_Attend_Scene_of_Accident\"]!='Data missing or out of range']\n",
    "df=df[df[\"Pedestrian_Crossing-Human_Control\"]!='Data missing or out of range']\n",
    "df=df[df[\"Pedestrian_Crossing-Physical_Facilities\"]!='Data missing or out of range']\n",
    "df=df[df[\"1st_Road_Class\"]!='Unclassified']\n",
    "df=df[df[\"2nd_Road_Class\"]!='Unclassified']\n"
   ]
  },
  {
   "cell_type": "code",
   "execution_count": 57,
   "metadata": {},
   "outputs": [
    {
     "data": {
      "text/plain": [
       "(144924, 27)"
      ]
     },
     "execution_count": 57,
     "metadata": {},
     "output_type": "execute_result"
    }
   ],
   "source": [
    "df.shape"
   ]
  },
  {
   "cell_type": "markdown",
   "metadata": {},
   "source": [
    "# Nulls and Outliers"
   ]
  },
  {
   "cell_type": "code",
   "execution_count": 58,
   "metadata": {},
   "outputs": [
    {
     "data": {
      "text/plain": [
       "Time                                           0.00897\n",
       "Speed_limit                                    0.00345\n",
       "Longitude                                      0.00276\n",
       "Latitude                                       0.00276\n",
       "Did_Police_Officer_Attend_Scene_of_Accident    0.00000\n",
       "1st_Road_Class                                 0.00000\n",
       "Police_Force                                   0.00000\n",
       "Accident_Severity                              0.00000\n",
       "Number_of_Vehicles                             0.00000\n",
       "Number_of_Casualties                           0.00000\n",
       "Date                                           0.00000\n",
       "Day_of_Week                                    0.00000\n",
       "Local_Authority_(District)                     0.00000\n",
       "Local_Authority_(Highway)                      0.00000\n",
       "Road_Type                                      0.00000\n",
       "Urban_or_Rural_Area                            0.00000\n",
       "Junction_Detail                                0.00000\n",
       "Junction_Control                               0.00000\n",
       "2nd_Road_Class                                 0.00000\n",
       "Pedestrian_Crossing-Human_Control              0.00000\n",
       "Pedestrian_Crossing-Physical_Facilities        0.00000\n",
       "Light_Conditions                               0.00000\n",
       "Weather_Conditions                             0.00000\n",
       "Road_Surface_Conditions                        0.00000\n",
       "Special_Conditions_at_Site                     0.00000\n",
       "Carriageway_Hazards                            0.00000\n",
       "Accident_Index                                 0.00000\n",
       "dtype: float64"
      ]
     },
     "execution_count": 58,
     "metadata": {},
     "output_type": "execute_result"
    }
   ],
   "source": [
    "df.isnull().sum().sort_values(ascending=False)/df.shape[0]*100"
   ]
  },
  {
   "cell_type": "code",
   "execution_count": 59,
   "metadata": {},
   "outputs": [
    {
     "data": {
      "text/plain": [
       "Did_Police_Officer_Attend_Scene_of_Accident    0.0\n",
       "1st_Road_Class                                 0.0\n",
       "Longitude                                      0.0\n",
       "Latitude                                       0.0\n",
       "Police_Force                                   0.0\n",
       "Accident_Severity                              0.0\n",
       "Number_of_Vehicles                             0.0\n",
       "Number_of_Casualties                           0.0\n",
       "Date                                           0.0\n",
       "Day_of_Week                                    0.0\n",
       "Time                                           0.0\n",
       "Local_Authority_(District)                     0.0\n",
       "Local_Authority_(Highway)                      0.0\n",
       "Road_Type                                      0.0\n",
       "Urban_or_Rural_Area                            0.0\n",
       "Speed_limit                                    0.0\n",
       "Junction_Detail                                0.0\n",
       "Junction_Control                               0.0\n",
       "2nd_Road_Class                                 0.0\n",
       "Pedestrian_Crossing-Human_Control              0.0\n",
       "Pedestrian_Crossing-Physical_Facilities        0.0\n",
       "Light_Conditions                               0.0\n",
       "Weather_Conditions                             0.0\n",
       "Road_Surface_Conditions                        0.0\n",
       "Special_Conditions_at_Site                     0.0\n",
       "Carriageway_Hazards                            0.0\n",
       "Accident_Index                                 0.0\n",
       "dtype: float64"
      ]
     },
     "execution_count": 59,
     "metadata": {},
     "output_type": "execute_result"
    }
   ],
   "source": [
    "#drop the all nulls that are <1%\n",
    "df.dropna(inplace=True)\n",
    "\n",
    "#last check\n",
    "df.isnull().sum().sort_values(ascending=False)/df.shape[0]*100"
   ]
  },
  {
   "cell_type": "code",
   "execution_count": 60,
   "metadata": {},
   "outputs": [
    {
     "data": {
      "text/plain": [
       "(144902, 27)"
      ]
     },
     "execution_count": 60,
     "metadata": {},
     "output_type": "execute_result"
    }
   ],
   "source": [
    "df.shape"
   ]
  },
  {
   "cell_type": "code",
   "execution_count": 61,
   "metadata": {},
   "outputs": [
    {
     "name": "stdout",
     "output_type": "stream",
     "text": [
      "<class 'pandas.core.frame.DataFrame'>\n",
      "Int64Index: 144902 entries, 2 to 931809\n",
      "Data columns (total 27 columns):\n",
      " #   Column                                       Non-Null Count   Dtype         \n",
      "---  ------                                       --------------   -----         \n",
      " 0   Accident_Index                               144902 non-null  object        \n",
      " 1   Longitude                                    144902 non-null  float64       \n",
      " 2   Latitude                                     144902 non-null  float64       \n",
      " 3   Police_Force                                 144902 non-null  object        \n",
      " 4   Accident_Severity                            144902 non-null  object        \n",
      " 5   Number_of_Vehicles                           144902 non-null  int64         \n",
      " 6   Number_of_Casualties                         144902 non-null  int64         \n",
      " 7   Date                                         144902 non-null  datetime64[ns]\n",
      " 8   Day_of_Week                                  144902 non-null  object        \n",
      " 9   Time                                         144902 non-null  object        \n",
      " 10  Local_Authority_(District)                   144902 non-null  object        \n",
      " 11  Local_Authority_(Highway)                    144902 non-null  object        \n",
      " 12  1st_Road_Class                               144902 non-null  object        \n",
      " 13  Road_Type                                    144902 non-null  object        \n",
      " 14  Speed_limit                                  144902 non-null  object        \n",
      " 15  Junction_Detail                              144902 non-null  object        \n",
      " 16  Junction_Control                             144902 non-null  object        \n",
      " 17  2nd_Road_Class                               144902 non-null  object        \n",
      " 18  Pedestrian_Crossing-Human_Control            144902 non-null  object        \n",
      " 19  Pedestrian_Crossing-Physical_Facilities      144902 non-null  object        \n",
      " 20  Light_Conditions                             144902 non-null  object        \n",
      " 21  Weather_Conditions                           144902 non-null  object        \n",
      " 22  Road_Surface_Conditions                      144902 non-null  object        \n",
      " 23  Special_Conditions_at_Site                   144902 non-null  object        \n",
      " 24  Carriageway_Hazards                          144902 non-null  object        \n",
      " 25  Urban_or_Rural_Area                          144902 non-null  object        \n",
      " 26  Did_Police_Officer_Attend_Scene_of_Accident  144902 non-null  object        \n",
      "dtypes: datetime64[ns](1), float64(2), int64(2), object(22)\n",
      "memory usage: 31.0+ MB\n"
     ]
    }
   ],
   "source": [
    "df.info()"
   ]
  },
  {
   "cell_type": "markdown",
   "metadata": {},
   "source": [
    "# More outliers, categorizing, and other cleanup"
   ]
  },
  {
   "cell_type": "code",
   "execution_count": 62,
   "metadata": {},
   "outputs": [],
   "source": [
    "#detecting outliers of numerical columns (all floats/ints excluding lat/long and year)\n",
    "\n",
    "df_num = df[['Number_of_Casualties','Number_of_Vehicles','Speed_limit']]"
   ]
  },
  {
   "cell_type": "code",
   "execution_count": 63,
   "metadata": {},
   "outputs": [
    {
     "data": {
      "image/png": "[encoded data removed]",
      "text/plain": [
       "<Figure size 864x576 with 2 Axes>"
      ]
     },
     "metadata": {},
     "output_type": "display_data"
    }
   ],
   "source": [
    "df_num.hist( bins=25, grid=False, figsize=(12,8))\n",
    "plt.style.use('dark_background')"
   ]
  },
  {
   "cell_type": "markdown",
   "metadata": {},
   "source": [
    "Column 'speed_limit' seems ok and was previously altered 'engine_capacity_cc'. However, 'number_of_casualties', and 'number_of_vehicles',will be evaluated."
   ]
  },
  {
   "cell_type": "code",
   "execution_count": 64,
   "metadata": {},
   "outputs": [
    {
     "data": {
      "text/plain": [
       "1     112701\n",
       "2      22667\n",
       "3       6201\n",
       "4       2108\n",
       "5        759\n",
       "6        288\n",
       "7         76\n",
       "8         41\n",
       "9         20\n",
       "10        11\n",
       "11         9\n",
       "12         7\n",
       "13         2\n",
       "19         2\n",
       "58         1\n",
       "14         1\n",
       "15         1\n",
       "17         1\n",
       "21         1\n",
       "22         1\n",
       "24         1\n",
       "26         1\n",
       "29         1\n",
       "87         1\n",
       "Name: Number_of_Casualties, dtype: int64"
      ]
     },
     "execution_count": 64,
     "metadata": {},
     "output_type": "execute_result"
    }
   ],
   "source": [
    "# #number_of_casualties\n",
    "df['Number_of_Casualties'].value_counts()"
   ]
  },
  {
   "cell_type": "code",
   "execution_count": 65,
   "metadata": {},
   "outputs": [],
   "source": [
    "#create casualities grouping\n",
    "\n",
    "def casualities(num_cas):\n",
    "    if num_cas >=1 and num_cas <2:\n",
    "        return \"1\"\n",
    "    elif num_cas >=2 and num_cas <3:\n",
    "        return \"2\"\n",
    "    elif num_cas >=3 and num_cas <4:\n",
    "        return \"3\"\n",
    "    elif num_cas >= 4 and num_cas <5:\n",
    "        return \"4\"\n",
    "    elif num_cas >= 5:\n",
    "        return \"5+\"\n",
    "  "
   ]
  },
  {
   "cell_type": "code",
   "execution_count": 66,
   "metadata": {},
   "outputs": [],
   "source": [
    "#apply function   \n",
    "df['Number_of_Casualties']= df['Number_of_Casualties'].apply(casualities)"
   ]
  },
  {
   "cell_type": "code",
   "execution_count": 67,
   "metadata": {},
   "outputs": [
    {
     "data": {
      "text/plain": [
       "1     112701\n",
       "2      22667\n",
       "3       6201\n",
       "4       2108\n",
       "5+      1225\n",
       "Name: Number_of_Casualties, dtype: int64"
      ]
     },
     "execution_count": 67,
     "metadata": {},
     "output_type": "execute_result"
    }
   ],
   "source": [
    "#number_of_casualties\n",
    "df['Number_of_Casualties'].value_counts()"
   ]
  },
  {
   "cell_type": "code",
   "execution_count": 68,
   "metadata": {},
   "outputs": [],
   "source": [
    "# Create csv of cleaned data to use later\n",
    "df.to_csv('data/Accidents/Cleaned_accidents.csv')"
   ]
  },
  {
   "cell_type": "code",
   "execution_count": null,
   "metadata": {},
   "outputs": [],
   "source": []
  }
 ],
 "metadata": {
  "kernelspec": {
   "display_name": "Python 3",
   "language": "python",
   "name": "python3"
  },
  "language_info": {
   "codemirror_mode": {
    "name": "ipython",
    "version": 3
   },
   "file_extension": ".py",
   "mimetype": "text/x-python",
   "name": "python",
   "nbconvert_exporter": "python",
   "pygments_lexer": "ipython3",
   "version": "3.7.7"
  }
 },
 "nbformat": 4,
 "nbformat_minor": 4
}
