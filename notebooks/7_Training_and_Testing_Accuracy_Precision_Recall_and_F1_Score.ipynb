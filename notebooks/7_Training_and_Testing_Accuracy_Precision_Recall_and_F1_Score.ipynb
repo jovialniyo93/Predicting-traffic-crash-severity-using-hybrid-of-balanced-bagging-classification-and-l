{
 "cells": [
  {
   "cell_type": "code",
   "execution_count": null,
   "metadata": {
    "colab": {
     "base_uri": "https://localhost:8080/"
    },
    "id": "iR6jxysxphoR",
    "outputId": "3f8d23be-5d5c-4d7a-aef9-0f96cf769016"
   },
   "outputs": [],
   "source": [
    "from google.colab import drive\n",
    "drive.mount('/content/drive')"
   ]
  },
  {
   "cell_type": "code",
   "execution_count": null,
   "metadata": {
    "colab": {
     "base_uri": "https://localhost:8080/"
    },
    "id": "BqtwxSTZpjBl",
    "outputId": "385f40b0-e93c-4d85-9764-032de3d41437"
   },
   "outputs": [],
   "source": [
    "!pip install kmodes"
   ]
  },
  {
   "cell_type": "code",
   "execution_count": null,
   "metadata": {
    "colab": {
     "base_uri": "https://localhost:8080/"
    },
    "id": "kA64lrsSQZEO",
    "outputId": "670e5610-6dde-4476-aea8-7654cf0c7506"
   },
   "outputs": [],
   "source": [
    "#Import modules\n",
    "import numpy as np\n",
    "import holidays\n",
    "import pandas as pd\n",
    "import seaborn as sns\n",
    "import pickle\n",
    "import time\n",
    "import timeit\n",
    "\n",
    "\n",
    "import matplotlib.pyplot as plt\n",
    "\n",
    "%matplotlib inline\n",
    "\n",
    "import datetime\n",
    "import math\n",
    "from collections import Counter\n",
    "\n",
    "#scipy\n",
    "import scipy.stats as stats\n",
    "from scipy import stats\n",
    "from scipy.stats import chi2_contingency\n",
    "\n",
    "#sklearn\n",
    "import sklearn\n",
    "from sklearn import ensemble\n",
    "from sklearn import preprocessing\n",
    "from sklearn.decomposition import PCA\n",
    "from sklearn.ensemble import AdaBoostClassifier, BaggingClassifier, ExtraTreesClassifier\n",
    "from sklearn.ensemble import RandomForestClassifier\n",
    "from sklearn.feature_selection import SelectFromModel\n",
    "from sklearn.impute import SimpleImputer\n",
    "from sklearn.linear_model import LogisticRegression\n",
    "from sklearn.metrics import accuracy_score, f1_score, precision_score, log_loss, recall_score \n",
    "from sklearn.metrics import classification_report, confusion_matrix, roc_auc_score\n",
    "from sklearn.model_selection import cross_val_score, GridSearchCV, train_test_split\n",
    "from sklearn.preprocessing import LabelEncoder, OneHotEncoder, StandardScaler, OrdinalEncoder\n",
    "from sklearn.svm import SVC\n",
    "from sklearn.tree import DecisionTreeClassifier\n",
    "from sklearn.utils import resample\n",
    "import joblib\n",
    "from sklearn.metrics import (accuracy_score, precision_score, recall_score, f1_score,\n",
    "                             fbeta_score, make_scorer, classification_report, confusion_matrix)\n",
    "\n",
    "#for clustering\n",
    "from sklearn.cluster import KMeans\n",
    "from sklearn.preprocessing import normalize\n",
    "from sklearn.decomposition import PCA\n",
    "from sklearn.cluster import MiniBatchKMeans\n",
    "from sklearn.metrics import silhouette_score\n",
    "\n",
    "#other learners\n",
    "from xgboost import XGBClassifier\n",
    "from lightgbm import LGBMClassifier\n",
    "from kmodes.kmodes import KModes\n",
    "\n",
    "#imblearn\n",
    "from imblearn.ensemble import BalancedBaggingClassifier\n",
    "from imblearn.ensemble import EasyEnsembleClassifier\n",
    "from imblearn.ensemble import BalancedRandomForestClassifier\n",
    "\n",
    "#webscraping\n",
    "import requests\n",
    "from bs4 import BeautifulSoup\n",
    "import re\n",
    "import urllib\n",
    "from IPython.core.display import HTML\n",
    "\n",
    "#time series\n",
    "import statsmodels.api as sm\n",
    "from pylab import rcParams\n",
    "import itertools\n",
    "from statsmodels.tsa.stattools import adfuller\n",
    "from statsmodels.tsa.stattools import acf, pacf\n",
    "from statsmodels.tsa.seasonal import seasonal_decompose\n",
    "from statsmodels.tsa.arima_model import ARIMA\n",
    "\n",
    "\n",
    "#warning ignorer\n",
    "import warnings\n",
    "warnings.filterwarnings(\"ignore\")\n",
    "\n",
    "from IPython.display import Image\n",
    "\n",
    "# Undersampling and Oversampling for class imbalance\n",
    "from imblearn.under_sampling import RandomUnderSampler\n",
    "from imblearn.over_sampling import SMOTE\n",
    "\n",
    "# Classifiers\n",
    "from sklearn.naive_bayes import MultinomialNB\n",
    "from sklearn.tree import DecisionTreeClassifier"
   ]
  },
  {
   "cell_type": "code",
   "execution_count": null,
   "metadata": {
    "colab": {
     "base_uri": "https://localhost:8080/",
     "height": 339
    },
    "id": "8C5a7LULQZEx",
    "outputId": "b1410e71-2dc5-4cda-f289-17450119302d"
   },
   "outputs": [],
   "source": [
    "# Reading in pre-processed and transformed data \n",
    "file ='/content/drive/MyDrive/Trial/data/Accidents/Visualized_and_manipulated.csv'\n",
    "df = pd.read_csv(file, low_memory = False)\n",
    "# Dropping unnamed column\n",
    "df.drop(df.columns[0],axis=1,inplace=True)\n",
    "df.head()"
   ]
  },
  {
   "cell_type": "code",
   "execution_count": null,
   "metadata": {
    "colab": {
     "base_uri": "https://localhost:8080/",
     "height": 369
    },
    "id": "GNsH9mqfQZE2",
    "outputId": "8f1bf6c7-3f57-4c42-9263-ea8b74d734a5"
   },
   "outputs": [],
   "source": [
    "#made separate dataframe w. set index that wouldnt effect data vis above\n",
    "df1=df\n",
    "#set index to accident_index\n",
    "df1.set_index('Accident_Index', inplace=True)\n",
    "df1.head()"
   ]
  },
  {
   "cell_type": "code",
   "execution_count": null,
   "metadata": {
    "colab": {
     "base_uri": "https://localhost:8080/"
    },
    "id": "MbgSizheQZE3",
    "outputId": "37caca44-7919-4bb0-dc71-c84d54142100"
   },
   "outputs": [],
   "source": [
    "df1.shape"
   ]
  },
  {
   "cell_type": "code",
   "execution_count": null,
   "metadata": {
    "colab": {
     "base_uri": "https://localhost:8080/"
    },
    "id": "RSkQN4ujQZE3",
    "outputId": "1f243029-c96d-43d9-9880-05815dadfee3"
   },
   "outputs": [],
   "source": [
    "df1.info()"
   ]
  },
  {
   "cell_type": "code",
   "execution_count": null,
   "metadata": {
    "id": "6l_LHPVIQZE4"
   },
   "outputs": [],
   "source": [
    "#create a new target variable - Reduced target class from a multi-class classification to a binary classification \n",
    "# problem to handle the imbalanced dataset and simplify analysis\n",
    "df1.loc[df1.Accident_Severity !='Slight', 'Target_Severe_Indicator'] = 1\n",
    "df1.loc[df1.Accident_Severity =='Slight', 'Target_Severe_Indicator'] = 0"
   ]
  },
  {
   "cell_type": "code",
   "execution_count": null,
   "metadata": {
    "colab": {
     "base_uri": "https://localhost:8080/"
    },
    "id": "4LikUuWYQZE4",
    "outputId": "c43377e5-8ac3-4a06-fa20-acc784227c44"
   },
   "outputs": [],
   "source": [
    "df1[\"Target_Severe_Indicator\"].value_counts()\n"
   ]
  },
  {
   "cell_type": "code",
   "execution_count": null,
   "metadata": {
    "colab": {
     "base_uri": "https://localhost:8080/"
    },
    "id": "Va7iHSxtQZE5",
    "outputId": "eb404149-8b27-41f2-ee2e-8c96058e066e"
   },
   "outputs": [],
   "source": [
    "df1[\"Accident_Severity\"].value_counts()"
   ]
  },
  {
   "cell_type": "code",
   "execution_count": null,
   "metadata": {
    "colab": {
     "base_uri": "https://localhost:8080/",
     "height": 369
    },
    "id": "ZoGrx8QsQZE5",
    "outputId": "ebe76081-59d6-450f-bb20-b05cdec993a3"
   },
   "outputs": [],
   "source": [
    "df1.head()"
   ]
  },
  {
   "cell_type": "code",
   "execution_count": null,
   "metadata": {
    "colab": {
     "base_uri": "https://localhost:8080/"
    },
    "id": "Vqmi3cP3QZE5",
    "outputId": "68253676-3de1-4a72-ff92-5512c661e682"
   },
   "outputs": [],
   "source": [
    "print(df1.columns)"
   ]
  },
  {
   "cell_type": "code",
   "execution_count": null,
   "metadata": {
    "id": "Dc6INUkTQZE6"
   },
   "outputs": [],
   "source": [
    "for col in set(df1.columns) - set(df1.describe().columns):\n",
    "    df1[col] = df1[col].astype('category')"
   ]
  },
  {
   "cell_type": "code",
   "execution_count": null,
   "metadata": {
    "colab": {
     "base_uri": "https://localhost:8080/"
    },
    "id": "iOHdf5AAQZE6",
    "outputId": "8793fc94-e462-4879-a073-a0b0b3b92ab1"
   },
   "outputs": [],
   "source": [
    "df.info()"
   ]
  },
  {
   "cell_type": "markdown",
   "metadata": {},
   "source": [
    "# Random Sampling - removed rows at random to speed up model run times (for testing purposes only) \n",
    "Considering the imbalance of classes in the target variable, it may be worth using random stratified sampling to maintain proportionality of classes of the original dataset (Stratified sampling not carried out here however)"
   ]
  },
  {
   "cell_type": "code",
   "execution_count": null,
   "metadata": {
    "id": "YoXKRY6VQZE7"
   },
   "outputs": [],
   "source": [
    "np.random.seed(150)\n",
    "\n",
    "remove_n = 85342 #Sample size to remove from original dataset\n",
    "df = df1\n",
    "drop_indices = np.random.choice(df.index, remove_n, replace=False)\n",
    "df_subset = df.drop(drop_indices)"
   ]
  },
  {
   "cell_type": "code",
   "execution_count": null,
   "metadata": {
    "colab": {
     "base_uri": "https://localhost:8080/",
     "height": 352
    },
    "id": "dkOp_ZkuQZE7",
    "outputId": "99e2bc71-74a5-4b67-fa14-279c3337e37f"
   },
   "outputs": [],
   "source": [
    "df_subset.shape\n",
    "df_subset.head()"
   ]
  },
  {
   "cell_type": "code",
   "execution_count": null,
   "metadata": {
    "colab": {
     "base_uri": "https://localhost:8080/"
    },
    "id": "L8o5qjUXQZE7",
    "outputId": "4d37ac4c-cf78-4673-9947-fbfb96c5acc7"
   },
   "outputs": [],
   "source": [
    "# 85% to 15% distribution of target class - Proportionality of the original dataset is still maintained\n",
    "df_subset['Target_Severe_Indicator'].value_counts()"
   ]
  },
  {
   "cell_type": "markdown",
   "metadata": {},
   "source": [
    "# Splitting target variable from predictor variables"
   ]
  },
  {
   "cell_type": "code",
   "execution_count": null,
   "metadata": {
    "id": "KoEmp8e3QZE7"
   },
   "outputs": [],
   "source": [
    "df_X = df_subset.drop('Target_Severe_Indicator', axis=1)  \n",
    "df_Y = df_subset['Target_Severe_Indicator']"
   ]
  },
  {
   "cell_type": "code",
   "execution_count": null,
   "metadata": {
    "id": "Tt3osOEbQZE8"
   },
   "outputs": [],
   "source": [
    "# Converting independent categorical features to Numerical by creating Dummy variables\n",
    "\n",
    "df_X_dummy = pd.get_dummies(df_X)\n",
    "#print(dataset_X_dummy.head())"
   ]
  },
  {
   "cell_type": "code",
   "execution_count": null,
   "metadata": {
    "colab": {
     "base_uri": "https://localhost:8080/"
    },
    "id": "1o5dlpfSQZE8",
    "outputId": "fe693742-d38b-4148-a8c4-6e6d2539387c"
   },
   "outputs": [],
   "source": [
    "df_X_dummy.shape"
   ]
  },
  {
   "cell_type": "markdown",
   "metadata": {},
   "source": [
    "# Feature Selection\n"
   ]
  },
  {
   "cell_type": "markdown",
   "metadata": {},
   "source": [
    "# Applying VarianceThreshold filter"
   ]
  },
  {
   "cell_type": "code",
   "execution_count": null,
   "metadata": {
    "id": "p1bhUcvgQZFA"
   },
   "outputs": [],
   "source": [
    "from sklearn.feature_selection import VarianceThreshold\n",
    "\n",
    "# threshold set to 87% for variance \n",
    "# i.e. if 87% of the column data is the same (i.e. low variation), the column will not be as useful\n",
    "# in the prediction\n",
    "thresh=(.85 * (1 - .85))"
   ]
  },
  {
   "cell_type": "code",
   "execution_count": null,
   "metadata": {
    "id": "rcueRp_8QZFA"
   },
   "outputs": [],
   "source": [
    "# Wrapper function to identify low variance features and remove them from the dataframe \n",
    "\n",
    "def get_low_variance_columns(dframe=None, columns=None,\n",
    "                             skip_columns=None, thresh=0.0,\n",
    "                             autoremove=False):\n",
    "    try:\n",
    "        # get list of all the original df columns\n",
    "        all_columns = dframe.columns\n",
    "\n",
    "        # remove `skip_columns`\n",
    "        remaining_columns = all_columns.drop(skip_columns)\n",
    "\n",
    "        # get length of new index\n",
    "        max_index = len(remaining_columns) - 1\n",
    "\n",
    "        # get indices for `skip_columns`\n",
    "        skipped_idx = [all_columns.get_loc(column)\n",
    "                       for column\n",
    "                       in skip_columns]\n",
    "\n",
    "        # adjust insert location by the number of columns removed\n",
    "        # (for non-zero insertion locations) to keep relative\n",
    "        # locations intact\n",
    "        for idx, item in enumerate(skipped_idx):\n",
    "            if item > max_index:\n",
    "                diff = item - max_index\n",
    "                skipped_idx[idx] -= diff\n",
    "            if item == max_index:\n",
    "                diff = item - len(skip_columns)\n",
    "                skipped_idx[idx] -= diff\n",
    "            if idx == 0:\n",
    "                skipped_idx[idx] = item\n",
    "\n",
    "        # get values of `skip_columns`\n",
    "        skipped_values = dframe.iloc[:, skipped_idx].values\n",
    "\n",
    "        # get dataframe values\n",
    "        X = dframe.loc[:, remaining_columns].values\n",
    "\n",
    "        # instantiate VarianceThreshold object\n",
    "        vt = VarianceThreshold(threshold=thresh)\n",
    "\n",
    "        # fit vt to data\n",
    "        vt.fit(X)\n",
    "\n",
    "        # get the indices of the features that are being kept\n",
    "        feature_indices = vt.get_support(indices=True)\n",
    "\n",
    "        # remove low-variance columns from index\n",
    "        feature_names = [remaining_columns[idx]\n",
    "                         for idx, _\n",
    "                         in enumerate(remaining_columns)\n",
    "                         if idx\n",
    "                         in feature_indices]\n",
    "\n",
    "        # get the columns to be removed\n",
    "        removed_features = list(np.setdiff1d(remaining_columns,\n",
    "                                             feature_names))\n",
    "        print(\"Found {0} low-variance columns.\"\n",
    "              .format(len(removed_features)))\n",
    "\n",
    "        # remove the columns\n",
    "        if autoremove:\n",
    "            print(\"Removing low-variance features.\")\n",
    "            # remove the low-variance columns\n",
    "            X_removed = vt.transform(X)\n",
    "\n",
    "            print(\"Reassembling the dataframe (with low-variance \"\n",
    "                  \"features removed).\")\n",
    "            # re-assemble the dataframe\n",
    "            dframe = pd.DataFrame(data=X_removed,\n",
    "                                  columns=feature_names)\n",
    "\n",
    "            # add back the `skip_columns`\n",
    "            for idx, index in enumerate(skipped_idx):\n",
    "                dframe.insert(loc=index,\n",
    "                              column=skip_columns[idx],\n",
    "                              value=skipped_values[:, idx])\n",
    "            print(\"Succesfully removed low-variance columns.\")\n",
    "\n",
    "        # do not remove columns\n",
    "        else:\n",
    "            print(\"No changes have been made to the dataframe.\")\n",
    "\n",
    "    except Exception as e:\n",
    "        print(e)\n",
    "        print(\"Could not remove low-variance features. Something \"\n",
    "              \"went wrong.\")\n",
    "        pass\n",
    "\n",
    "    return dframe, removed_features"
   ]
  },
  {
   "cell_type": "code",
   "execution_count": null,
   "metadata": {
    "colab": {
     "base_uri": "https://localhost:8080/"
    },
    "id": "tJqAdkQaQZFA",
    "outputId": "b2177f8f-c0a1-4cef-eb5a-552cc45d9cc1"
   },
   "outputs": [],
   "source": [
    "# retrieve new dataframe (with low variance features)\n",
    "df_X_new, low_var_col = get_low_variance_columns(df_X_dummy,[],[],thresh, True) \n",
    "#Set to True to remove low variance columns"
   ]
  },
  {
   "cell_type": "code",
   "execution_count": null,
   "metadata": {
    "colab": {
     "base_uri": "https://localhost:8080/"
    },
    "id": "Re84g_5AQZFA",
    "outputId": "b8de6c2a-aa90-41db-a76b-e281de354298"
   },
   "outputs": [],
   "source": [
    "df_X_new.shape"
   ]
  },
  {
   "cell_type": "code",
   "execution_count": null,
   "metadata": {
    "colab": {
     "base_uri": "https://localhost:8080/",
     "height": 287
    },
    "id": "HOVCZL09QZFB",
    "outputId": "168ad66c-6f70-4950-c297-064a82610878"
   },
   "outputs": [],
   "source": [
    "df_X_new.head()"
   ]
  },
  {
   "cell_type": "markdown",
   "metadata": {},
   "source": [
    "**Normalizing data** - adjusting values measured on different scales to a notionally common scale (between 0 - 1)"
   ]
  },
  {
   "cell_type": "code",
   "execution_count": null,
   "metadata": {
    "id": "U33TiT-WQZFS"
   },
   "outputs": [],
   "source": [
    "df_X_normalized=(df_X_new-df_X_new.min())/(df_X_new.max()-df_X_new.min())"
   ]
  },
  {
   "cell_type": "code",
   "execution_count": null,
   "metadata": {
    "colab": {
     "base_uri": "https://localhost:8080/",
     "height": 287
    },
    "id": "cAOyz3RDQZFT",
    "outputId": "d8d82958-6833-409d-b5da-2f353724d3d3"
   },
   "outputs": [],
   "source": [
    "df_X_normalized.head()"
   ]
  },
  {
   "cell_type": "code",
   "execution_count": null,
   "metadata": {
    "id": "kwBU9FlVQZFV"
   },
   "outputs": [],
   "source": [
    "df_X=df_X_normalized.round(3) "
   ]
  },
  {
   "cell_type": "code",
   "execution_count": null,
   "metadata": {
    "colab": {
     "base_uri": "https://localhost:8080/",
     "height": 227
    },
    "id": "FZaYqUwAQZFV",
    "outputId": "37ab0aa4-2ab9-4de1-8976-7f452af60d74"
   },
   "outputs": [],
   "source": [
    "df_X.head(3)"
   ]
  },
  {
   "cell_type": "code",
   "execution_count": null,
   "metadata": {
    "colab": {
     "base_uri": "https://localhost:8080/"
    },
    "id": "nClxiJdWQZFV",
    "outputId": "40158b85-3871-484e-934e-b79eb69f1248"
   },
   "outputs": [],
   "source": [
    "df_Y.value_counts()"
   ]
  },
  {
   "cell_type": "code",
   "execution_count": null,
   "metadata": {
    "id": "4tCG5pF0yJmX"
   },
   "outputs": [],
   "source": [
    "from sklearn.model_selection import KFold,GridSearchCV"
   ]
  },
  {
   "cell_type": "code",
   "execution_count": null,
   "metadata": {
    "id": "SsZsG_lfkOHP"
   },
   "outputs": [],
   "source": [
    "# 80 train -20 test split\n",
    "X_train, X_test, y_train, y_test = train_test_split(df_X, df_Y, test_size=0.2, random_state=42)"
   ]
  },
  {
   "cell_type": "code",
   "execution_count": null,
   "metadata": {
    "colab": {
     "base_uri": "https://localhost:8080/"
    },
    "id": "SCiHXxcXywFN",
    "outputId": "1a79fd44-f64c-4210-ee4a-bc32450a2965"
   },
   "outputs": [],
   "source": [
    "X_train.shape, y_train.shape\n"
   ]
  },
  {
   "cell_type": "code",
   "execution_count": null,
   "metadata": {
    "colab": {
     "base_uri": "https://localhost:8080/"
    },
    "id": "gcAHwXDsyypo",
    "outputId": "632d4cc3-511e-466c-c82c-300f0f28c8a2"
   },
   "outputs": [],
   "source": [
    "X_test.shape, y_test.shape"
   ]
  },
  {
   "cell_type": "code",
   "execution_count": null,
   "metadata": {
    "id": "wzMoc2_y0SIN"
   },
   "outputs": [],
   "source": [
    "from sklearn import metrics\n",
    "from sklearn.metrics import classification_report, confusion_matrix  "
   ]
  },
  {
   "cell_type": "code",
   "execution_count": null,
   "metadata": {
    "id": "Rit8LwfG2dpf"
   },
   "outputs": [],
   "source": [
    "def print_score(clf, X_train, y_train, X_test, y_test, train=True):\n",
    "    '''\n",
    "    print the accuracy score, classification report and confusion matrix of classifier\n",
    "    '''\n",
    "    if train:\n",
    "        '''\n",
    "        training performance\n",
    "        '''\n",
    "        print(\"Train Result:\\n\")\n",
    "        print(\"accuracy score: {0:.4f}\\n\".format(accuracy_score(y_train, clf.predict(X_train))))\n",
    "        print(\"Classification Report: \\n {}\\n\".format(classification_report(y_train, clf.predict(X_train))))\n",
    "        print(\"Confusion Matrix: \\n {}\\n\".format(confusion_matrix(y_train, clf.predict(X_train))))\n",
    "\n",
    "        res = cross_val_score(clf, X_train, y_train, cv=10, scoring='accuracy')\n",
    "        print(\"Average Accuracy: \\t {0:.4f}\".format(np.mean(res)))\n",
    "        print(\"Accuracy SD: \\t\\t {0:.4f}\".format(np.std(res)))\n",
    "\n",
    "        \n",
    "    elif train==False:\n",
    "        '''\n",
    "        test performance\n",
    "        '''\n",
    "        print(\"Test Result:\\n\")        \n",
    "        print(\"accuracy score: {0:.4f}\\n\".format(accuracy_score(y_test, clf.predict(X_test))))\n",
    "        print(\"Classification Report: \\n {}\\n\".format(classification_report(y_test, clf.predict(X_test))))\n",
    "        print(\"Confusion Matrix: \\n {}\\n\".format(confusion_matrix(y_test, clf.predict(X_test))))        "
   ]
  },
  {
   "cell_type": "markdown",
   "metadata": {},
   "source": [
    "# Gaussian Naive Bayes"
   ]
  },
  {
   "cell_type": "code",
   "execution_count": null,
   "metadata": {
    "colab": {
     "base_uri": "https://localhost:8080/"
    },
    "id": "HVRnjnYA2dXC",
    "outputId": "5bfec382-3fd3-4fdb-e342-be308a3ac172"
   },
   "outputs": [],
   "source": [
    "from sklearn.naive_bayes import GaussianNB\n",
    "gnv_clf = GaussianNB()\n",
    "gnv_clf.fit(X_train, y_train)"
   ]
  },
  {
   "cell_type": "code",
   "execution_count": null,
   "metadata": {
    "colab": {
     "base_uri": "https://localhost:8080/"
    },
    "id": "ciGoy6Zj4Cyf",
    "outputId": "0b8c7151-63fd-4ada-d385-8f97901b6d50"
   },
   "outputs": [],
   "source": [
    "print_score(gnv_clf, X_train, y_train, X_test, y_test, train=True)"
   ]
  },
  {
   "cell_type": "code",
   "execution_count": null,
   "metadata": {
    "colab": {
     "base_uri": "https://localhost:8080/"
    },
    "id": "ro27Vwpc4eKL",
    "outputId": "845cc110-e906-41c5-808c-b28d8afddf12"
   },
   "outputs": [],
   "source": [
    "print_score(gnv_clf, X_train, y_train, X_test, y_test, train=False)"
   ]
  },
  {
   "cell_type": "markdown",
   "metadata": {},
   "source": [
    "# Support Vector Machine"
   ]
  },
  {
   "cell_type": "code",
   "execution_count": null,
   "metadata": {
    "colab": {
     "base_uri": "https://localhost:8080/"
    },
    "id": "3OR97rb9q5zo",
    "outputId": "17495ab8-0f55-42ba-9ede-d1d11087085a"
   },
   "outputs": [],
   "source": [
    "from sklearn.svm import SVC\n",
    "svm_clf = SVC(kernel='linear',\n",
    "            class_weight='balanced', # penalize\n",
    "            probability=True)\n",
    "svm_clf.fit(X_train, y_train)\n"
   ]
  },
  {
   "cell_type": "code",
   "execution_count": null,
   "metadata": {
    "colab": {
     "base_uri": "https://localhost:8080/"
    },
    "id": "EKlwJbSwq5h7",
    "outputId": "9bb93f62-ecdc-4eaa-c724-6e2235dd73e8"
   },
   "outputs": [],
   "source": [
    "print_score(svm_clf, X_train, y_train, X_test, y_test, train=True)"
   ]
  },
  {
   "cell_type": "code",
   "execution_count": null,
   "metadata": {
    "colab": {
     "base_uri": "https://localhost:8080/"
    },
    "id": "pEHDKBWdq5aI",
    "outputId": "f275340b-453a-4e72-bfe4-38ea2d21195e"
   },
   "outputs": [],
   "source": [
    "print_score(svm_clf, X_train, y_train, X_test, y_test, train=False)"
   ]
  },
  {
   "cell_type": "markdown",
   "metadata": {},
   "source": [
    "# Balanced Bagging"
   ]
  },
  {
   "cell_type": "code",
   "execution_count": null,
   "metadata": {
    "colab": {
     "base_uri": "https://localhost:8080/"
    },
    "id": "whg81VV7-iij",
    "outputId": "affe9af9-1e93-4885-cf0d-ab292bb8f54e"
   },
   "outputs": [],
   "source": [
    "bbc_clf=BalancedBaggingClassifier(max_features=df_X.shape[1], n_estimators=500, replacement=True,\n",
    "                              sampling_strategy='majority', random_state=42)\n",
    "bbc_clf.fit(X_train,y_train)"
   ]
  },
  {
   "cell_type": "code",
   "execution_count": null,
   "metadata": {
    "colab": {
     "base_uri": "https://localhost:8080/"
    },
    "id": "hFrk7wZ7q5Sa",
    "outputId": "d7f60349-45e3-4ba5-943f-46eae3e078cc"
   },
   "outputs": [],
   "source": [
    "print_score(bbc_clf, X_train, y_train, X_test, y_test, train=True)"
   ]
  },
  {
   "cell_type": "code",
   "execution_count": null,
   "metadata": {
    "colab": {
     "base_uri": "https://localhost:8080/"
    },
    "id": "xqPPYt_Aq5KU",
    "outputId": "360b133b-b9d0-4ed0-ac22-68cf25f6bb8f"
   },
   "outputs": [],
   "source": [
    "print_score(bbc_clf, X_train, y_train, X_test, y_test, train=False)"
   ]
  },
  {
   "cell_type": "markdown",
   "metadata": {},
   "source": [
    "# Balanced BAgging+LGBM"
   ]
  },
  {
   "cell_type": "code",
   "execution_count": null,
   "metadata": {
    "colab": {
     "base_uri": "https://localhost:8080/"
    },
    "id": "-TfqqgTRq5BI",
    "outputId": "efbe5217-2d9d-4462-f56a-9b100bcfe53b"
   },
   "outputs": [],
   "source": [
    "#start\n",
    "start_res_bbag_w_lgbm_clf = time.time()\n",
    "\n",
    "# Balanced Bagging Classifier\n",
    "res_bbag_w_lgbm_clf = BalancedBaggingClassifier(base_estimator=LGBMClassifier(learning_rate =0.03, \n",
    "                                                                          max_depth=40, \n",
    "                                                                          min_data_in_leaf=10,\n",
    "                                                                          n_estimators=500, \n",
    "                                                                          num_leaves=50, \n",
    "                                                                          random_state = 42), \n",
    "                                            max_features=df_X.shape[1], n_estimators=500, \n",
    "                                            replacement=True,\n",
    "                                            random_state=42)\n",
    "res_bbag_w_lgbm_clf.fit(X_train, y_train)"
   ]
  },
  {
   "cell_type": "code",
   "execution_count": null,
   "metadata": {
    "colab": {
     "base_uri": "https://localhost:8080/"
    },
    "id": "qJS6L_tbq44x",
    "outputId": "ebc55ab9-232c-4f15-9b36-8cc8638ffc95"
   },
   "outputs": [],
   "source": [
    "print_score(res_bbag_w_lgbm_clf, X_train, y_train, X_test, y_test, train=True)"
   ]
  },
  {
   "cell_type": "code",
   "execution_count": null,
   "metadata": {
    "colab": {
     "base_uri": "https://localhost:8080/"
    },
    "id": "kPu-5z2vq4rY",
    "outputId": "a1158661-f2fe-4511-d6f9-97caada79dea"
   },
   "outputs": [],
   "source": [
    "print_score(res_bbag_w_lgbm_clf, X_train, y_train, X_test, y_test, train=False)"
   ]
  },
  {
   "cell_type": "code",
   "execution_count": null,
   "metadata": {
    "id": "2_abrEITU_jo"
   },
   "outputs": [],
   "source": []
  }
 ],
 "metadata": {
  "accelerator": "GPU",
  "colab": {
   "collapsed_sections": [],
   "name": "Training_and_Testing_Accuracy,_Precision,_Recall_and_F1_Score.ipynb",
   "provenance": []
  },
  "kernelspec": {
   "display_name": "Python 3 (ipykernel)",
   "language": "python",
   "name": "python3"
  },
  "language_info": {
   "codemirror_mode": {
    "name": "ipython",
    "version": 3
   },
   "file_extension": ".py",
   "mimetype": "text/x-python",
   "name": "python",
   "nbconvert_exporter": "python",
   "pygments_lexer": "ipython3",
   "version": "3.10.9"
  }
 },
 "nbformat": 4,
 "nbformat_minor": 1
}
